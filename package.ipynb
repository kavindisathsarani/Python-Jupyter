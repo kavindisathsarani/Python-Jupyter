{
 "cells": [
  {
   "cell_type": "code",
   "execution_count": 2,
   "id": "1fd84793",
   "metadata": {},
   "outputs": [
    {
     "name": "stdout",
     "output_type": "stream",
     "text": [
      "\n",
      "0\n"
     ]
    }
   ],
   "source": [
    "class Student:\n",
    "    name = \"\"\n",
    "    age = 0\n",
    "\n",
    "student_1 = Student()\n",
    "print(student_1.name)\n",
    "print(student_1.age)\n"
   ]
  },
  {
   "cell_type": "code",
   "execution_count": 7,
   "id": "d160aa4c",
   "metadata": {},
   "outputs": [
    {
     "name": "stdout",
     "output_type": "stream",
     "text": [
      "car has 4 wheels\n",
      "This car drives to beach in 4 wheels\n"
     ]
    }
   ],
   "source": [
    "class Car:\n",
    "    wheels = 4\n",
    "\n",
    "    def display_info(self):\n",
    "        print(f\"car has {self.wheels} wheels\")\n",
    "       \n",
    "    def drive_to(self,destination):\n",
    "        print(f\"This car drives to {destination} in {self.wheels} wheels\" )\n",
    "\n",
    "car_1 = Car()\n",
    "car_1.display_info()\n",
    "car_1.drive_to(\"beach\")"
   ]
  },
  {
   "cell_type": "code",
   "execution_count": 6,
   "id": "d65e629c",
   "metadata": {},
   "outputs": [
    {
     "name": "stdout",
     "output_type": "stream",
     "text": [
      "constructor has been called\n"
     ]
    }
   ],
   "source": [
    "class Car:\n",
    "    wheels = 4\n",
    "\n",
    "    def __init__(self, brand, color):\n",
    "        print(\"constructor has been called\")\n",
    "        self.brand = brand\n",
    "        self.color = color\n",
    "    \n",
    "car_1 = Car(\"BMW\",\"Blue\")"
   ]
  },
  {
   "cell_type": "code",
   "execution_count": null,
   "id": "91aaaddb",
   "metadata": {},
   "outputs": [
    {
     "name": "stdout",
     "output_type": "stream",
     "text": [
      "Blue color BMW car has 4 wheels\n",
      "Blue color BMW car drives to beach\n"
     ]
    }
   ],
   "source": [
    "class Car:\n",
    "    wheels = 4\n",
    "\n",
    "    def __init__(self, brand, color):\n",
    "        self.brand = brand\n",
    "        self.color = color\n",
    "\n",
    "\n",
    "    def display_info(self):\n",
    "        print(f\"{self.color} color {self.brand} car has {self.wheels} wheels\")\n",
    "       \n",
    "    def drive_to(self,destination):\n",
    "        print(f\"{self.color} color {self.brand} car drives to {destination}\" )\n",
    "\n",
    "car_1 = Car(\"BMW\",\"Blue\")\n",
    "car_1.display_info()\n",
    "car_1.drive_to(\"beach\")\n"
   ]
  },
  {
   "cell_type": "code",
   "execution_count": 33,
   "id": "877ac29f",
   "metadata": {},
   "outputs": [
    {
     "name": "stdout",
     "output_type": "stream",
     "text": [
      "The area is 50 and perimeter is 30\n"
     ]
    }
   ],
   "source": [
    "class Rectangle:\n",
    "\n",
    "    def __init__(self,length, width):\n",
    "        self.length = length\n",
    "        self.width = width\n",
    "\n",
    "    def area(self):\n",
    "        return self.length * self.width\n",
    "\n",
    "    def get_perimeter(self):\n",
    "        return 2*(self.length + self.width )\n",
    "\n",
    "    def describe(self):\n",
    "        print(f\"The area is {self.area()} and perimeter is {self.get_perimeter()}\")\n",
    "\n",
    "rectangle_1 = Rectangle(10,5)\n",
    "rectangle_1.describe()\n"
   ]
  },
  {
   "cell_type": "code",
   "execution_count": 1,
   "id": "b3cf3b03",
   "metadata": {},
   "outputs": [
    {
     "name": "stdout",
     "output_type": "stream",
     "text": [
      "Parrot speak\n"
     ]
    }
   ],
   "source": [
    "class Animal:\n",
    "    def speak(self):\n",
    "        print(\"Animal speak\")\n",
    "class Parrot(Animal):\n",
    "    def display_info(self):\n",
    "        print(\"Something\")\n",
    "    def speak(self):\n",
    "        print(\"Parrot speak\")\n",
    "\n",
    "Parrot_1 = Parrot()\n",
    "Parrot_1.speak()"
   ]
  },
  {
   "cell_type": "code",
   "execution_count": 4,
   "id": "ac942eff",
   "metadata": {},
   "outputs": [
    {
     "name": "stdout",
     "output_type": "stream",
     "text": [
      "Animal speak\n"
     ]
    }
   ],
   "source": [
    "class Animal:\n",
    "    def __init__(self,name):\n",
    "        self.name =name\n",
    "class Parrot(Animal):\n",
    "     def speak(self):\n",
    "        print(\"Animal speak\")\n",
    "\n",
    "Parrot_1 = Parrot(\"polly\")\n",
    "Parrot_1.speak()\n"
   ]
  },
  {
   "cell_type": "code",
   "execution_count": 19,
   "id": "c414c36d",
   "metadata": {},
   "outputs": [
    {
     "name": "stdout",
     "output_type": "stream",
     "text": [
      "polly\n",
      "Green\n"
     ]
    }
   ],
   "source": [
    "class Animal:\n",
    "    def __init__(self,name):\n",
    "        self.name =name\n",
    "class Parrot(Animal):\n",
    "     def __init__(self,name,color):\n",
    "        self.color =color \n",
    "        super().__init__(name)\n",
    "\n",
    "     def speak(self):\n",
    "        print(\"Animal speak\")\n",
    "\n",
    "Parrot_1 = Parrot(\"polly\",\"Green\")\n",
    "print(Parrot_1.name)\n",
    "print(Parrot_1.color)"
   ]
  },
  {
   "cell_type": "code",
   "execution_count": 38,
   "id": "dcf716bf",
   "metadata": {},
   "outputs": [
    {
     "name": "stdout",
     "output_type": "stream",
     "text": [
      "name: saman,salary:2000\n",
      "department:IT\n"
     ]
    }
   ],
   "source": [
    "class Employee:\n",
    "    def __init__(self,name,salary):\n",
    "        self.name =name\n",
    "        self.salary =salary\n",
    "\n",
    "    def display_info(self):\n",
    "        print(f\"name: {self.name},salary:{self.salary}\")\n",
    "        \n",
    "class Manager(Employee):\n",
    "    def __init__(self,name,salary,department):\n",
    "        self.department =department\n",
    "        super().__init__(name,salary)\n",
    "\n",
    "    def display_info(self):\n",
    "        super().display_info()\n",
    "        print(f\"department:{ self.department}\")\n",
    "    \n",
    "manager_1 = Manager(\"saman\",2000,\"IT\")\n",
    "manager_1.display_info()\n"
   ]
  },
  {
   "cell_type": "code",
   "execution_count": 39,
   "id": "dfa72a6e",
   "metadata": {},
   "outputs": [
    {
     "name": "stdout",
     "output_type": "stream",
     "text": [
      "Bark\n",
      "Meow\n"
     ]
    }
   ],
   "source": [
    "class Animal:\n",
    "    def speak(self):\n",
    "        print(\"speak Animal\")\n",
    "class Dog(Animal):\n",
    "    def speak(self):\n",
    "        print(\"Bark\")\n",
    "class Cat(Animal):\n",
    "    def speak(self):\n",
    "        print(\"Meow\")\n",
    "\n",
    "dog_1 = Dog()\n",
    "cat_1 = Cat()\n",
    "dog_1.speak()\n",
    "cat_1.speak()"
   ]
  },
  {
   "cell_type": "code",
   "execution_count": 44,
   "id": "fe940e52",
   "metadata": {},
   "outputs": [],
   "source": [
    "class Person:\n",
    "    def __init__(self):\n",
    "        self._name =\"Kavi\"\n",
    "class Employee(Person):\n",
    "    def display(self):\n",
    "        print(self._name)\n",
    "e = Employee\n",
    "# print(e._name) Technically allowed,but not recommended"
   ]
  },
  {
   "cell_type": "code",
   "execution_count": 78,
   "id": "e4670914",
   "metadata": {},
   "outputs": [
    {
     "name": "stdout",
     "output_type": "stream",
     "text": [
      "owner_name: saman , current_balance:0.0\n",
      "1000.0\n",
      "current_balance:800.0\n"
     ]
    }
   ],
   "source": [
    "class BankAccount:\n",
    "    def __init__(self,account_number,owner_name):\n",
    "        self.__account_number =account_number\n",
    "        self.__owner_name =owner_name\n",
    "        self.__balance=0.0\n",
    "\n",
    "    def display_account(self):\n",
    "        print(f\"owner_name: {self.__owner_name} , current_balance:{self.__balance}\")\n",
    "\n",
    "    def deposit(self,amount):\n",
    "        if self.__validate_amount(amount):\n",
    "             self.__balance= self.__balance+ amount\n",
    "             print(self.__balance)\n",
    "        else:\n",
    "            print(\"amount is invalid\")\n",
    "\n",
    "    def withdraw(self,amount):\n",
    "        if self.__validate_amount(amount) and self.__balance > amount:\n",
    "            print(f\"current_balance:{self.__balance - amount}\")\n",
    "        else:\n",
    "            print(\"balance isn't enough\")\n",
    "\n",
    "    def get_balance(self):\n",
    "        return self.__balance\n",
    "    \n",
    "    def __validate_amount(self,amount):\n",
    "        if amount>0:\n",
    "           return True\n",
    "        else:\n",
    "           return False\n",
    "\n",
    "    \n",
    "bank_1 = BankAccount(12,\"saman\")\n",
    "bank_1.display_account()\n",
    "bank_1.deposit(1000)\n",
    "bank_1.withdraw(200)\n"
   ]
  }
 ],
 "metadata": {
  "kernelspec": {
   "display_name": "Python 3",
   "language": "python",
   "name": "python3"
  },
  "language_info": {
   "codemirror_mode": {
    "name": "ipython",
    "version": 3
   },
   "file_extension": ".py",
   "mimetype": "text/x-python",
   "name": "python",
   "nbconvert_exporter": "python",
   "pygments_lexer": "ipython3",
   "version": "3.13.3"
  }
 },
 "nbformat": 4,
 "nbformat_minor": 5
}
