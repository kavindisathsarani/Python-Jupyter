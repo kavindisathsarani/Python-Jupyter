{
 "cells": [
  {
   "cell_type": "code",
   "execution_count": 2,
   "id": "1fd84793",
   "metadata": {},
   "outputs": [
    {
     "name": "stdout",
     "output_type": "stream",
     "text": [
      "\n",
      "0\n"
     ]
    }
   ],
   "source": [
    "class Student:\n",
    "    name = \"\"\n",
    "    age = 0\n",
    "\n",
    "student_1 = Student()\n",
    "print(student_1.name)\n",
    "print(student_1.age)\n"
   ]
  },
  {
   "cell_type": "code",
   "execution_count": 7,
   "id": "d160aa4c",
   "metadata": {},
   "outputs": [
    {
     "name": "stdout",
     "output_type": "stream",
     "text": [
      "car has 4 wheels\n",
      "This car drives to beach in 4 wheels\n"
     ]
    }
   ],
   "source": [
    "class Car:\n",
    "    wheels = 4\n",
    "\n",
    "    def display_info(self):\n",
    "        print(f\"car has {self.wheels} wheels\")\n",
    "       \n",
    "    def drive_to(self,destination):\n",
    "        print(f\"This car drives to {destination} in {self.wheels} wheels\" )\n",
    "\n",
    "car_1 = Car()\n",
    "car_1.display_info()\n",
    "car_1.drive_to(\"beach\")"
   ]
  },
  {
   "cell_type": "code",
   "execution_count": 6,
   "id": "d65e629c",
   "metadata": {},
   "outputs": [
    {
     "name": "stdout",
     "output_type": "stream",
     "text": [
      "constructor has been called\n"
     ]
    }
   ],
   "source": [
    "class Car:\n",
    "    wheels = 4\n",
    "\n",
    "    def __init__(self, brand, color):\n",
    "        print(\"constructor has been called\")\n",
    "        self.brand = brand\n",
    "        self.color = color\n",
    "    \n",
    "car_1 = Car(\"BMW\",\"Blue\")"
   ]
  },
  {
   "cell_type": "code",
   "execution_count": null,
   "id": "91aaaddb",
   "metadata": {},
   "outputs": [
    {
     "name": "stdout",
     "output_type": "stream",
     "text": [
      "Blue color BMW car has 4 wheels\n",
      "Blue color BMW car drives to beach\n"
     ]
    }
   ],
   "source": [
    "class Car:\n",
    "    wheels = 4\n",
    "\n",
    "    def __init__(self, brand, color):\n",
    "        self.brand = brand\n",
    "        self.color = color\n",
    "\n",
    "\n",
    "    def display_info(self):\n",
    "        print(f\"{self.color} color {self.brand} car has {self.wheels} wheels\")\n",
    "       \n",
    "    def drive_to(self,destination):\n",
    "        print(f\"{self.color} color {self.brand} car drives to {destination}\" )\n",
    "\n",
    "car_1 = Car(\"BMW\",\"Blue\")\n",
    "car_1.display_info()\n",
    "car_1.drive_to(\"beach\")\n"
   ]
  },
  {
   "cell_type": "code",
   "execution_count": 33,
   "id": "877ac29f",
   "metadata": {},
   "outputs": [
    {
     "name": "stdout",
     "output_type": "stream",
     "text": [
      "The area is 50 and perimeter is 30\n"
     ]
    }
   ],
   "source": [
    "class Rectangle:\n",
    "\n",
    "    def __init__(self,length, width):\n",
    "        self.length = length\n",
    "        self.width = width\n",
    "\n",
    "    def area(self):\n",
    "        return self.length * self.width\n",
    "\n",
    "    def get_perimeter(self):\n",
    "        return 2*(self.length + self.width )\n",
    "\n",
    "    def describe(self):\n",
    "        print(f\"The area is {self.area()} and perimeter is {self.get_perimeter()}\")\n",
    "\n",
    "rectangle_1 = Rectangle(10,5)\n",
    "rectangle_1.describe()\n"
   ]
  },
  {
   "cell_type": "code",
   "execution_count": 1,
   "id": "b3cf3b03",
   "metadata": {},
   "outputs": [
    {
     "name": "stdout",
     "output_type": "stream",
     "text": [
      "Parrot speak\n"
     ]
    }
   ],
   "source": [
    "class Animal:\n",
    "    def speak(self):\n",
    "        print(\"Animal speak\")\n",
    "class Parrot(Animal):\n",
    "    def display_info(self):\n",
    "        print(\"Something\")\n",
    "    def speak(self):\n",
    "        print(\"Parrot speak\")\n",
    "\n",
    "Parrot_1 = Parrot()\n",
    "Parrot_1.speak()"
   ]
  },
  {
   "cell_type": "code",
   "execution_count": 4,
   "id": "ac942eff",
   "metadata": {},
   "outputs": [
    {
     "name": "stdout",
     "output_type": "stream",
     "text": [
      "Animal speak\n"
     ]
    }
   ],
   "source": [
    "class Animal:\n",
    "    def __init__(self,name):\n",
    "        self.name =name\n",
    "class Parrot(Animal):\n",
    "     def speak(self):\n",
    "        print(\"Animal speak\")\n",
    "\n",
    "Parrot_1 = Parrot(\"polly\")\n",
    "Parrot_1.speak()\n"
   ]
  },
  {
   "cell_type": "code",
   "execution_count": 19,
   "id": "c414c36d",
   "metadata": {},
   "outputs": [
    {
     "name": "stdout",
     "output_type": "stream",
     "text": [
      "polly\n",
      "Green\n"
     ]
    }
   ],
   "source": [
    "class Animal:\n",
    "    def __init__(self,name):\n",
    "        self.name =name\n",
    "class Parrot(Animal):\n",
    "     def __init__(self,name,color):\n",
    "        self.color =color \n",
    "        super().__init__(name)\n",
    "\n",
    "     def speak(self):\n",
    "        print(\"Animal speak\")\n",
    "\n",
    "Parrot_1 = Parrot(\"polly\",\"Green\")\n",
    "print(Parrot_1.name)\n",
    "print(Parrot_1.color)"
   ]
  },
  {
   "cell_type": "code",
   "execution_count": 38,
   "id": "dcf716bf",
   "metadata": {},
   "outputs": [
    {
     "name": "stdout",
     "output_type": "stream",
     "text": [
      "name: saman,salary:2000\n",
      "department:IT\n"
     ]
    }
   ],
   "source": [
    "class Employee:\n",
    "    def __init__(self,name,salary):\n",
    "        self.name =name\n",
    "        self.salary =salary\n",
    "\n",
    "    def display_info(self):\n",
    "        print(f\"name: {self.name},salary:{self.salary}\")\n",
    "        \n",
    "class Manager(Employee):\n",
    "    def __init__(self,name,salary,department):\n",
    "        self.department =department\n",
    "        super().__init__(name,salary)\n",
    "\n",
    "    def display_info(self):\n",
    "        super().display_info()\n",
    "        print(f\"department:{ self.department}\")\n",
    "    \n",
    "manager_1 = Manager(\"saman\",2000,\"IT\")\n",
    "manager_1.display_info()\n"
   ]
  },
  {
   "cell_type": "code",
   "execution_count": 39,
   "id": "dfa72a6e",
   "metadata": {},
   "outputs": [
    {
     "name": "stdout",
     "output_type": "stream",
     "text": [
      "Bark\n",
      "Meow\n"
     ]
    }
   ],
   "source": [
    "class Animal:\n",
    "    def speak(self):\n",
    "        print(\"speak Animal\")\n",
    "class Dog(Animal):\n",
    "    def speak(self):\n",
    "        print(\"Bark\")\n",
    "class Cat(Animal):\n",
    "    def speak(self):\n",
    "        print(\"Meow\")\n",
    "\n",
    "dog_1 = Dog()\n",
    "cat_1 = Cat()\n",
    "dog_1.speak()\n",
    "cat_1.speak()"
   ]
  },
  {
   "cell_type": "code",
   "execution_count": 44,
   "id": "fe940e52",
   "metadata": {},
   "outputs": [],
   "source": [
    "class Person:\n",
    "    def __init__(self):\n",
    "        self._name =\"Kavi\"\n",
    "class Employee(Person):\n",
    "    def display(self):\n",
    "        print(self._name)\n",
    "e = Employee\n",
    "# print(e._name) Technically allowed,but not recommended"
   ]
  },
  {
   "cell_type": "code",
   "execution_count": 78,
   "id": "e4670914",
   "metadata": {},
   "outputs": [
    {
     "name": "stdout",
     "output_type": "stream",
     "text": [
      "owner_name: saman , current_balance:0.0\n",
      "1000.0\n",
      "current_balance:800.0\n"
     ]
    }
   ],
   "source": [
    "class BankAccount:\n",
    "    def __init__(self,account_number,owner_name):\n",
    "        self.__account_number =account_number\n",
    "        self.__owner_name =owner_name\n",
    "        self.__balance=0.0\n",
    "\n",
    "    def display_account(self):\n",
    "        print(f\"owner_name: {self.__owner_name} , current_balance:{self.__balance}\")\n",
    "\n",
    "    def deposit(self,amount):\n",
    "        if self.__validate_amount(amount):\n",
    "             self.__balance= self.__balance+ amount\n",
    "             print(self.__balance)\n",
    "        else:\n",
    "            print(\"amount is invalid\")\n",
    "\n",
    "    def withdraw(self,amount):\n",
    "        if self.__validate_amount(amount) and self.__balance > amount:\n",
    "            print(f\"current_balance:{self.__balance - amount}\")\n",
    "        else:\n",
    "            print(\"balance isn't enough\")\n",
    "\n",
    "    def get_balance(self):\n",
    "        return self.__balance\n",
    "    \n",
    "    def __validate_amount(self,amount):\n",
    "        if amount>0:\n",
    "           return True\n",
    "        else:\n",
    "           return False\n",
    "\n",
    "    \n",
    "bank_1 = BankAccount(12,\"saman\")\n",
    "bank_1.display_account()\n",
    "bank_1.deposit(1000)\n",
    "bank_1.withdraw(200)\n"
   ]
  },
  {
   "cell_type": "code",
   "execution_count": 3,
   "id": "6aeae40b",
   "metadata": {},
   "outputs": [
    {
     "name": "stdout",
     "output_type": "stream",
     "text": [
      "Hi Guys! Hope everthing is good. I'm fine too.\n",
      "This is much better.\n",
      "This is even better.\n",
      "I love AI.\n"
     ]
    }
   ],
   "source": [
    "file_1 = open(\"my_file.txt\", \"r\")\n",
    "\n",
    "read_content = file_1.read()\n",
    "print(read_content)\n",
    "\n",
    "file_1.close()"
   ]
  },
  {
   "cell_type": "code",
   "execution_count": 6,
   "id": "98966fd1",
   "metadata": {},
   "outputs": [
    {
     "name": "stdout",
     "output_type": "stream",
     "text": [
      "Hi Guys! Hope everthing is good. I'm fine too.\n",
      "\n",
      "This is much better.\n",
      "\n",
      "This is even better.\n",
      "\n",
      "I love AI.\n"
     ]
    }
   ],
   "source": [
    "file_1 = open(\"my_file.txt\", \"r\")\n",
    "\n",
    "line_1 = file_1.readline()\n",
    "print(line_1)\n",
    "\n",
    "line_2 = file_1.readline()\n",
    "print(line_2)\n",
    "\n",
    "line_3 = file_1.readline()\n",
    "print(line_3)\n",
    "\n",
    "line_4 = file_1.readline()\n",
    "print(line_4)\n",
    "file_1.close()"
   ]
  },
  {
   "cell_type": "code",
   "execution_count": 7,
   "id": "c1c279f8",
   "metadata": {},
   "outputs": [
    {
     "name": "stdout",
     "output_type": "stream",
     "text": [
      "Hi Guys! Hope everthing is good. I'm fine too.\n",
      "This is much better.\n",
      "This is even better.\n",
      "I love AI.\n"
     ]
    }
   ],
   "source": [
    "file_1 = open(\"my_file.txt\", \"r\")\n",
    "\n",
    "while True:\n",
    "    line = file_1.readline()\n",
    "    if not line:\n",
    "        break\n",
    "    print(line.strip())\n",
    "    # removes the newline character at the end of each"
   ]
  },
  {
   "cell_type": "code",
   "execution_count": 9,
   "id": "a3717ad2",
   "metadata": {},
   "outputs": [
    {
     "name": "stdout",
     "output_type": "stream",
     "text": [
      "[\"Hi Guys! Hope everthing is good. I'm fine too.\\n\", 'This is much better.\\n', 'This is even better.\\n', 'I love AI.']\n"
     ]
    }
   ],
   "source": [
    "file_1 = open(\"my_file.txt\", \"r\")\n",
    "lines = file_1.readlines()\n",
    "\n",
    "print(lines)\n",
    "\n",
    "file_1.close()"
   ]
  },
  {
   "cell_type": "code",
   "execution_count": 11,
   "id": "ec033830",
   "metadata": {},
   "outputs": [
    {
     "name": "stdout",
     "output_type": "stream",
     "text": [
      "Hi Guys! Hope everthing is good. I'm fine too.\n",
      "This is much better.\n",
      "This is even better.\n",
      "I love AI.\n"
     ]
    }
   ],
   "source": [
    "file_1 = open(\"my_file.txt\", \"r\")\n",
    "lines = file_1.readlines()\n",
    "\n",
    "for line in lines:\n",
    "    print(line.strip())\n",
    "\n",
    "file_1.close()"
   ]
  },
  {
   "cell_type": "code",
   "execution_count": 15,
   "id": "5a577f76",
   "metadata": {},
   "outputs": [
    {
     "name": "stdout",
     "output_type": "stream",
     "text": [
      "Hi Guys! Hope everthing is good. I'm fine too.\n",
      "This is much better.\n",
      "This is even better.\n",
      "I love AI.\n"
     ]
    }
   ],
   "source": [
    "with open(\"my_file.txt\", \"r\") as file:\n",
    "    content = file.read()\n",
    "    print(content)"
   ]
  },
  {
   "cell_type": "code",
   "execution_count": 17,
   "id": "9042e12b",
   "metadata": {},
   "outputs": [],
   "source": [
    "with open(\"my_file_1.txt\", \"w\") as file:\n",
    "   file.write(\"This is awesome.\\n\")\n",
    "   file.write(\"Programming is fun.\\n\")\n",
    "\n",
    "#    This creates a whole new file named my_file_1.txt and it has those 2 lines aboved"
   ]
  },
  {
   "cell_type": "code",
   "execution_count": 18,
   "id": "c20ca699",
   "metadata": {},
   "outputs": [],
   "source": [
    "with open(\"my_file_1.txt\", \"w\") as file:\n",
    "   file.write(\"This is a test.\\n\")\n",
    "   file.write(\"Programming is fun.\\n\")\n",
    "   file.write(\"Programming is fun.\\n\")\n",
    "   file.write(\"Programming is fun.\\n\")"
   ]
  },
  {
   "cell_type": "code",
   "execution_count": 19,
   "id": "25ac32c6",
   "metadata": {},
   "outputs": [],
   "source": [
    "with open(\"test_file.txt\",\"w\") as file_1:\n",
    "    lines =[\"This is new\\n\",\"writelines() method\\n\"]\n",
    "    file_1.writelines(lines)"
   ]
  },
  {
   "cell_type": "code",
   "execution_count": 2,
   "id": "5689d52f",
   "metadata": {},
   "outputs": [],
   "source": [
    "with open(\"test_file.txt\",\"a\") as file:\n",
    "   file.write(\"This is demo.\\n\")\n",
    "   "
   ]
  },
  {
   "cell_type": "code",
   "execution_count": 3,
   "id": "96f79170",
   "metadata": {},
   "outputs": [
    {
     "name": "stdout",
     "output_type": "stream",
     "text": [
      "<class 'dict'>\n",
      "{'name': 'John Doe', 'age': 30, 'isStudent': False, 'hobbies': ['reading', 'gardening', 'swimming']}\n"
     ]
    }
   ],
   "source": [
    "import json\n",
    "\n",
    "with open(\"test.json\",\"r\") as json_file:\n",
    "    data = json.load(json_file)\n",
    "    print(type(data))\n",
    "    print(data)"
   ]
  },
  {
   "cell_type": "code",
   "execution_count": 4,
   "id": "b5566974",
   "metadata": {},
   "outputs": [],
   "source": [
    "import json\n",
    "data = {\n",
    "    \"name\": \"John Nash\",\n",
    "    \"age\":30,\n",
    "    \"city\":\"New York\"\n",
    "}\n",
    "\n",
    "with open(\"my_json.json\",\"w\") as json_file:\n",
    "    json.dump(data,json_file,indent=4)"
   ]
  },
  {
   "cell_type": "code",
   "execution_count": 8,
   "id": "5c7f7f9b",
   "metadata": {},
   "outputs": [
    {
     "name": "stdout",
     "output_type": "stream",
     "text": [
      "['Name', 'Age', 'Occupation']\n",
      "['John Doe', '30', 'Engineer']\n",
      "['Jane Smith', '25', 'Teacher']\n",
      "['Bob Johnson', '40', 'Doctor']\n",
      "['Alice Brown', '35', 'Artist']\n"
     ]
    }
   ],
   "source": [
    "import csv\n",
    "\n",
    "with open(\"test.csv\",\"r\",newline='') as csv_file:\n",
    "    csv_reader = csv.reader(csv_file)\n",
    "    # print(type(csv_reader)) \n",
    "    # output = <class '_csv.reader'>\n",
    "\n",
    "    for row in csv_reader:\n",
    "        print(row)\n"
   ]
  },
  {
   "cell_type": "code",
   "execution_count": 17,
   "id": "0b2865b6",
   "metadata": {},
   "outputs": [
    {
     "name": "stdout",
     "output_type": "stream",
     "text": [
      "{'Name': 'John Doe', 'Age': '30', 'Occupation': 'Engineer'}\n",
      "{'Name': 'Jane Smith', 'Age': '25', 'Occupation': 'Teacher'}\n",
      "{'Name': 'Bob Johnson', 'Age': '40', 'Occupation': 'Doctor'}\n",
      "{'Name': 'Alice Brown', 'Age': '35', 'Occupation': 'Artist'}\n"
     ]
    }
   ],
   "source": [
    "import csv\n",
    "\n",
    "with open(\"test.csv\", \"r\", newline='') as csv_file:\n",
    "    reader = csv.DictReader(csv_file)\n",
    "\n",
    "    for row in reader:\n",
    "        print(row)\n"
   ]
  },
  {
   "cell_type": "code",
   "execution_count": 20,
   "id": "ab462606",
   "metadata": {},
   "outputs": [],
   "source": [
    "import csv\n",
    "\n",
    "data = [\n",
    "    {\"Name\": \"Jane Smith\", \"Age\": \"25\", \"City\": \"Chicago\"},\n",
    "    {\"Name\": \"Bob Johnson\", \"Age\": \"40\", \"City\": \"Houston\"},\n",
    "    {\"Name\": \"Alice Brown\", \"Age\": \"35\", \"City\": \"Seattle\"}\n",
    "]\n",
    "\n",
    "fieldnames = [\"Name\", \"Age\", \"City\"]\n",
    "\n",
    "with open(\"my_csv.csv\", \"w\", newline='') as csv_file:\n",
    "    csv_writer = csv.DictWriter(csv_file, fieldnames=fieldnames)\n",
    "\n",
    "    csv_writer.writeheader()  # Write the header row\n",
    "    csv_writer.writerows(data)  # Write the data rows\n",
    "\n"
   ]
  }
 ],
 "metadata": {
  "kernelspec": {
   "display_name": "Python 3",
   "language": "python",
   "name": "python3"
  },
  "language_info": {
   "codemirror_mode": {
    "name": "ipython",
    "version": 3
   },
   "file_extension": ".py",
   "mimetype": "text/x-python",
   "name": "python",
   "nbconvert_exporter": "python",
   "pygments_lexer": "ipython3",
   "version": "3.13.3"
  }
 },
 "nbformat": 4,
 "nbformat_minor": 5
}
