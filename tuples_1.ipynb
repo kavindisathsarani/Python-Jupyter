{
 "cells": [
  {
   "cell_type": "code",
   "execution_count": 1,
   "metadata": {},
   "outputs": [
    {
     "name": "stdout",
     "output_type": "stream",
     "text": [
      "('tenis', 'cricket', 'football')\n",
      "<class 'tuple'>\n",
      "cricket\n"
     ]
    }
   ],
   "source": [
    "sports = (\"tenis\",\"cricket\",\"football\")\n",
    "print(sports)\n",
    "print(type(sports))\n",
    "print(sports[1])\n",
    "         "
   ]
  },
  {
   "cell_type": "code",
   "execution_count": 4,
   "metadata": {},
   "outputs": [
    {
     "name": "stdout",
     "output_type": "stream",
     "text": [
      "<class 'tuple'>\n"
     ]
    }
   ],
   "source": [
    "my_tuple=(\"carrot\",)\n",
    "print(type(my_tuple))"
   ]
  },
  {
   "cell_type": "code",
   "execution_count": 26,
   "metadata": {},
   "outputs": [
    {
     "name": "stdout",
     "output_type": "stream",
     "text": [
      "(True, 'cricket', 'football')\n",
      "('tennis', 30, True, 'cricket')\n",
      "(True, 'cricket', 'football')\n",
      "cricket\n",
      "5\n"
     ]
    }
   ],
   "source": [
    "my_tuple=(\"tennis\",30,True,\"cricket\",\"football\")\n",
    "print(my_tuple[2:5])\n",
    "print(my_tuple[:4])\n",
    "print(my_tuple[2:])\n",
    "print(my_tuple[-2])\n",
    "print(len(my_tuple))"
   ]
  },
  {
   "cell_type": "code",
   "execution_count": 4,
   "metadata": {},
   "outputs": [
    {
     "name": "stdout",
     "output_type": "stream",
     "text": [
      "['apple', 'banana', 'orange'] <class 'list'>\n",
      "['apple', 'grapes', 'orange'] <class 'list'>\n",
      "('apple', 'grapes', 'orange') <class 'tuple'>\n"
     ]
    }
   ],
   "source": [
    "fruits=(\"apple\",\"banana\",\"orange\")\n",
    "x=list(fruits)\n",
    "print(x,type(x))\n",
    "x[1]=\"grapes\"\n",
    "print(x,type(x))\n",
    "fruits=tuple(x)\n",
    "print(fruits,type(fruits))\n"
   ]
  },
  {
   "cell_type": "code",
   "execution_count": 6,
   "metadata": {},
   "outputs": [
    {
     "name": "stdout",
     "output_type": "stream",
     "text": [
      "b\n",
      "True\n"
     ]
    }
   ],
   "source": [
    "nested_tuples=((1,2,3),(\"a\",\"b\",\"c\"),(True,False))\n",
    "print(nested_tuples[1][1])\n",
    "print(nested_tuples[2][0])"
   ]
  },
  {
   "cell_type": "code",
   "execution_count": 18,
   "metadata": {},
   "outputs": [
    {
     "name": "stdout",
     "output_type": "stream",
     "text": [
      "{'tenis', 'cricket', 'football'}\n",
      "<class 'set'>\n"
     ]
    }
   ],
   "source": [
    "sports={\"tenis\",\"cricket\",\"football\"}\n",
    "print(sports)\n",
    "print(type(sports))"
   ]
  },
  {
   "cell_type": "code",
   "execution_count": 19,
   "metadata": {},
   "outputs": [
    {
     "name": "stdout",
     "output_type": "stream",
     "text": [
      "{'tenis', 'cricket', 'football'}\n",
      "<class 'set'>\n"
     ]
    }
   ],
   "source": [
    "sports={\"tenis\",\"cricket\",\"football\",\"tenis\"}\n",
    "print(sports)\n",
    "print(type(sports))"
   ]
  },
  {
   "cell_type": "code",
   "execution_count": 20,
   "metadata": {},
   "outputs": [
    {
     "name": "stdout",
     "output_type": "stream",
     "text": [
      "{'baseball', 'tenis', 'cricket', 'football'}\n"
     ]
    }
   ],
   "source": [
    "set_1={\"tenis\",\"cricket\",\"football\"}\n",
    "set_1.add(\"baseball\")\n",
    "print(set_1)"
   ]
  },
  {
   "cell_type": "code",
   "execution_count": 23,
   "metadata": {},
   "outputs": [
    {
     "name": "stdout",
     "output_type": "stream",
     "text": [
      "{'cricket', 'banana', 'apple', 'tenis', 'football'}\n"
     ]
    }
   ],
   "source": [
    "set_1={\"tenis\",\"cricket\",\"football\"}\n",
    "set_2={\"apple\",\"banana\"}\n",
    "set_1.update(set_2)\n",
    "print(set_1)"
   ]
  },
  {
   "cell_type": "code",
   "execution_count": 24,
   "metadata": {},
   "outputs": [
    {
     "name": "stdout",
     "output_type": "stream",
     "text": [
      "{'meat', 'football', 'carrot', 'cricket', 'tenis'}\n"
     ]
    }
   ],
   "source": [
    "set_1={\"tenis\",\"cricket\",\"football\"}\n",
    "list_1=[\"carrot\",\"meat\"]\n",
    "set_1.update(list_1)\n",
    "print(set_1)"
   ]
  },
  {
   "cell_type": "code",
   "execution_count": 37,
   "metadata": {},
   "outputs": [
    {
     "name": "stdout",
     "output_type": "stream",
     "text": [
      "{40, 50, 25, 60, 30}\n",
      "[40, 50, 25, 60, 30]\n",
      "[25, 30, 40, 50, 60]\n"
     ]
    }
   ],
   "source": [
    "list_1=[50,60,30,40,50,25,60,30,40]\n",
    "set_2=set(list_1)\n",
    "print(set_2)\n",
    "list_1=list(set_2)\n",
    "print(list_1)\n",
    "list_1.sort()\n",
    "print(list_1)\n"
   ]
  },
  {
   "cell_type": "code",
   "execution_count": 40,
   "metadata": {},
   "outputs": [
    {
     "name": "stdout",
     "output_type": "stream",
     "text": [
      "range(1, 7)\n",
      "<class 'range'>\n",
      "range(1, 12, 2)\n",
      "range(3, 24, 4)\n"
     ]
    }
   ],
   "source": [
    "x=range(1,7,1)\n",
    "y=range(1,12,2)\n",
    "z=range(3,24,4)\n",
    "print(x)\n",
    "print(type(x))\n",
    "print(y)\n",
    "print(z)\n"
   ]
  },
  {
   "cell_type": "code",
   "execution_count": 47,
   "metadata": {},
   "outputs": [
    {
     "name": "stdout",
     "output_type": "stream",
     "text": [
      "11 23\n"
     ]
    },
    {
     "ename": "IndexError",
     "evalue": "range object index out of range",
     "output_type": "error",
     "traceback": [
      "\u001b[31m---------------------------------------------------------------------------\u001b[39m",
      "\u001b[31mIndexError\u001b[39m                                Traceback (most recent call last)",
      "\u001b[36mCell\u001b[39m\u001b[36m \u001b[39m\u001b[32mIn[47]\u001b[39m\u001b[32m, line 2\u001b[39m\n\u001b[32m      1\u001b[39m \u001b[38;5;28mprint\u001b[39m(z[\u001b[32m2\u001b[39m],z[\u001b[32m5\u001b[39m])\n\u001b[32m----> \u001b[39m\u001b[32m2\u001b[39m \u001b[38;5;28mprint\u001b[39m(\u001b[43mz\u001b[49m\u001b[43m[\u001b[49m\u001b[32;43m6\u001b[39;49m\u001b[43m]\u001b[49m)\n",
      "\u001b[31mIndexError\u001b[39m: range object index out of range"
     ]
    }
   ],
   "source": [
    "print(z[2],z[5])\n",
    "print(z[6])"
   ]
  },
  {
   "cell_type": "code",
   "execution_count": 50,
   "metadata": {},
   "outputs": [
    {
     "name": "stdout",
     "output_type": "stream",
     "text": [
      "{'name': 'sugar', 'weight': '1kg', 'price': 130.35}\n",
      "<class 'dict'>\n"
     ]
    }
   ],
   "source": [
    "this_dict={\n",
    "    \"name\":\"sugar\",\n",
    "    \"weight\":\"1kg\",\n",
    "    \"price\":130.35\n",
    "}\n",
    "\n",
    "print(this_dict)\n",
    "print(type(this_dict))"
   ]
  },
  {
   "cell_type": "code",
   "execution_count": 53,
   "metadata": {},
   "outputs": [
    {
     "name": "stdout",
     "output_type": "stream",
     "text": [
      "1kg\n",
      "1kg\n",
      "3\n"
     ]
    }
   ],
   "source": [
    "print(this_dict[\"weight\"])\n",
    "print(this_dict.get(\"weight\"))\n",
    "print(len(this_dict))"
   ]
  },
  {
   "cell_type": "code",
   "execution_count": 54,
   "metadata": {},
   "outputs": [
    {
     "name": "stdout",
     "output_type": "stream",
     "text": [
      "{'name': 'sugar', 'weight': '1kg', 'price': 150.5}\n"
     ]
    }
   ],
   "source": [
    "this_dict[\"price\"]=150.50\n",
    "print(this_dict)"
   ]
  },
  {
   "cell_type": "code",
   "execution_count": 55,
   "metadata": {},
   "outputs": [
    {
     "name": "stdout",
     "output_type": "stream",
     "text": [
      "{'name': 'sugar', 'weight': '1kg', 'price': 150.5, 'color': 'brown'}\n"
     ]
    }
   ],
   "source": [
    "this_dict[\"color\"]=\"brown\"\n",
    "print(this_dict)"
   ]
  },
  {
   "cell_type": "code",
   "execution_count": 58,
   "metadata": {},
   "outputs": [
    {
     "name": "stdout",
     "output_type": "stream",
     "text": [
      "{'name': 'sugar', 'weight': '1kg', 'price': 120.75, 'expire_date': 'jan 2025'}\n",
      "{'name': 'sugar', 'weight': '1kg', 'expire_date': 'jan 2025'}\n",
      "{'name': 'sugar', 'weight': '1kg'}\n"
     ]
    }
   ],
   "source": [
    "this_dict={\n",
    "    \"name\":\"sugar\",\n",
    "    \"weight\":\"1kg\",\n",
    "    \"price\":130.35\n",
    "}\n",
    "\n",
    "this_dict.update({\"expire_date\":\"jan 2025\",\"price\":120.75})\n",
    "print(this_dict)\n",
    "this_dict.pop(\"price\")\n",
    "print(this_dict)\n",
    "this_dict.popitem()\n",
    "print(this_dict)"
   ]
  },
  {
   "cell_type": "code",
   "execution_count": 61,
   "metadata": {},
   "outputs": [
    {
     "ename": "NameError",
     "evalue": "name 'this_dict' is not defined",
     "output_type": "error",
     "traceback": [
      "\u001b[31m---------------------------------------------------------------------------\u001b[39m",
      "\u001b[31mNameError\u001b[39m                                 Traceback (most recent call last)",
      "\u001b[36mCell\u001b[39m\u001b[36m \u001b[39m\u001b[32mIn[61]\u001b[39m\u001b[32m, line 1\u001b[39m\n\u001b[32m----> \u001b[39m\u001b[32m1\u001b[39m \u001b[38;5;28;01mdel\u001b[39;00m \u001b[43mthis_dict\u001b[49m\n\u001b[32m      2\u001b[39m \u001b[38;5;28mprint\u001b[39m(this_dict)\n",
      "\u001b[31mNameError\u001b[39m: name 'this_dict' is not defined"
     ]
    }
   ],
   "source": [
    "del this_dict\n",
    "print(this_dict)"
   ]
  },
  {
   "cell_type": "code",
   "execution_count": 63,
   "metadata": {},
   "outputs": [
    {
     "name": "stdout",
     "output_type": "stream",
     "text": [
      "{}\n"
     ]
    }
   ],
   "source": [
    "this_dict={\n",
    "    \"name\":\"sugar\",\n",
    "    \"weight\":\"1kg\",\n",
    "    \"price\":130.35\n",
    "}\n",
    "this_dict.clear()\n",
    "print(this_dict)"
   ]
  },
  {
   "cell_type": "code",
   "execution_count": 66,
   "metadata": {},
   "outputs": [
    {
     "name": "stdout",
     "output_type": "stream",
     "text": [
      "{'name': 'sugar', 'weight': '1kg', 'price': 150.0}\n",
      "{'name': 'sugar', 'weight': '1kg', 'price': 130.35}\n"
     ]
    }
   ],
   "source": [
    "this_dict={\n",
    "    \"name\":\"sugar\",\n",
    "    \"weight\":\"1kg\",\n",
    "    \"price\":130.35\n",
    "}\n",
    "\n",
    "dict_1=this_dict.copy()\n",
    "this_dict[\"price\"]=150.00\n",
    "print(this_dict)\n",
    "print(dict_1)"
   ]
  },
  {
   "cell_type": "code",
   "execution_count": 3,
   "metadata": {},
   "outputs": [
    {
     "name": "stdout",
     "output_type": "stream",
     "text": [
      "2\n",
      "1\n"
     ]
    }
   ],
   "source": [
    "x,y = 7,3\n",
    "print(x // y)\n",
    "print(x % y)"
   ]
  },
  {
   "cell_type": "code",
   "execution_count": 4,
   "metadata": {},
   "outputs": [
    {
     "name": "stdout",
     "output_type": "stream",
     "text": [
      "False\n"
     ]
    }
   ],
   "source": [
    "x,y = 5,6\n",
    "print(x is y)"
   ]
  },
  {
   "cell_type": "code",
   "execution_count": 5,
   "metadata": {},
   "outputs": [
    {
     "name": "stdout",
     "output_type": "stream",
     "text": [
      "True\n"
     ]
    }
   ],
   "source": [
    "x = 5\n",
    "y = x\n",
    "print(x is y)"
   ]
  },
  {
   "cell_type": "code",
   "execution_count": 6,
   "metadata": {},
   "outputs": [
    {
     "name": "stdout",
     "output_type": "stream",
     "text": [
      "True\n"
     ]
    }
   ],
   "source": [
    "x = 5\n",
    "y = 5\n",
    "print(x is y)"
   ]
  },
  {
   "cell_type": "code",
   "execution_count": 21,
   "metadata": {},
   "outputs": [
    {
     "name": "stdout",
     "output_type": "stream",
     "text": [
      "True\n"
     ]
    }
   ],
   "source": [
    "x = 7\n",
    "y = 2\n",
    "print(x is not y)"
   ]
  },
  {
   "cell_type": "code",
   "execution_count": 22,
   "metadata": {},
   "outputs": [
    {
     "name": "stdout",
     "output_type": "stream",
     "text": [
      "True\n",
      "False\n"
     ]
    }
   ],
   "source": [
    "nums=[10,8,4,3,2]\n",
    "print(8 in nums)\n",
    "print(5 in nums)"
   ]
  },
  {
   "cell_type": "code",
   "execution_count": 23,
   "metadata": {},
   "outputs": [
    {
     "name": "stdout",
     "output_type": "stream",
     "text": [
      "n is an even number\n"
     ]
    }
   ],
   "source": [
    "n=16\n",
    "if n % 2 == 0:\n",
    "    print(\"n is an even number\")"
   ]
  },
  {
   "cell_type": "code",
   "execution_count": 24,
   "metadata": {},
   "outputs": [
    {
     "name": "stdout",
     "output_type": "stream",
     "text": [
      "n is an odd number\n"
     ]
    }
   ],
   "source": [
    "n=13\n",
    "if n % 2 == 0:\n",
    "    print(\"n is an even number\")\n",
    "else:\n",
    "    print(\"n is an odd number\")"
   ]
  },
  {
   "cell_type": "code",
   "execution_count": 27,
   "metadata": {},
   "outputs": [
    {
     "name": "stdout",
     "output_type": "stream",
     "text": [
      "List is not empty\n"
     ]
    }
   ],
   "source": [
    "my_list=[1,2,3]\n",
    "if len(my_list) == 0:\n",
    "    print(\"List is empty\")\n",
    "else:\n",
    "    print(\"List is not empty\")"
   ]
  },
  {
   "cell_type": "code",
   "execution_count": 42,
   "metadata": {},
   "outputs": [
    {
     "name": "stdout",
     "output_type": "stream",
     "text": [
      "Circumference of the circle is:  12.56\n"
     ]
    }
   ],
   "source": [
    "radius = 2\n",
    "PI_VALUE= 3.14\n",
    "if radius <= 0:\n",
    "    print(\"radius should be a positive value\")\n",
    "else:\n",
    "    circumference = 2 * PI_VALUE * radius\n",
    "    print(\"Circumference of the circle is: \", circumference)\n"
   ]
  },
  {
   "cell_type": "code",
   "execution_count": 57,
   "metadata": {},
   "outputs": [
    {
     "name": "stdout",
     "output_type": "stream",
     "text": [
      "Hypotenuse of the triangle is:  13.0\n"
     ]
    }
   ],
   "source": [
    "side_1 = 5\n",
    "side_2 = 12\n",
    "\n",
    "if side_1 >= 0 or side_2 >= 0:\n",
    "    hypotenuse = (side_1 ** 2 + side_2 ** 2) ** 0.5 \n",
    "    print(\"Hypotenuse of the triangle is: \", hypotenuse)\n",
    "else:\n",
    "    print(\"sides should be positive values\")\n"
   ]
  },
  {
   "cell_type": "code",
   "execution_count": 7,
   "metadata": {},
   "outputs": [
    {
     "name": "stdout",
     "output_type": "stream",
     "text": [
      "largest is: 8\n"
     ]
    }
   ],
   "source": [
    "num_1 = 2\n",
    "num_2 = 6\n",
    "num_3 = 8\n",
    "\n",
    "if num_1 > num_2 and num_1 > num_3:\n",
    "    print(\"largest is:\", num_1)\n",
    "\n",
    "elif(num_2 > num_1) and (num_2 > num_3):\n",
    "   print(\"largest is:\", num_2)\n",
    "   \n",
    "else:\n",
    "   print(\"largest is:\", num_3)\n",
    "\n",
    "\n",
    "\n"
   ]
  },
  {
   "cell_type": "code",
   "execution_count": 11,
   "metadata": {},
   "outputs": [
    {
     "name": "stdout",
     "output_type": "stream",
     "text": [
      "largest is: 10\n",
      "8 9 10\n"
     ]
    }
   ],
   "source": [
    "num_1 = 10\n",
    "num_2 = 9\n",
    "num_3 = 8\n",
    "\n",
    "if num_1 > num_2 and num_1 > num_3 and num_2 > num_3:\n",
    "    print(\"largest is:\", num_1)\n",
    "    print(num_3 ,num_2 ,num_1)\n",
    "\n",
    "elif num_1 > num_2 and num_1 > num_3 and num_3 > num_2:\n",
    "    print(\"largest is:\", num_1)\n",
    "    print(num_2 ,num_3 ,num_1)\n",
    "\n",
    "elif(num_2 > num_1) and (num_2 > num_3) and num_1 > num_3:\n",
    "   print(\"largest is:\", num_2)\n",
    "   print(num_3 ,num_1 ,num_2)\n",
    "\n",
    "elif(num_2 > num_1) and (num_2 > num_3) and num_3 > num_1:\n",
    "   print(\"largest is:\", num_2)\n",
    "   print(num_1 ,num_3 ,num_2)\n",
    "\n",
    "elif(num_3 > num_1) and (num_3 > num_1) and num_1 > num_2:\n",
    "   print(\"largest is:\", num_3)\n",
    "   print(num_2 ,num_1 ,num_3)\n",
    "\n",
    "else:\n",
    "   print(\"largest is:\", num_3)\n",
    "   print(num_1 ,num_2 ,num_3)\n"
   ]
  },
  {
   "cell_type": "code",
   "execution_count": null,
   "metadata": {},
   "outputs": [
    {
     "name": "stdout",
     "output_type": "stream",
     "text": [
      "8 9 10\n"
     ]
    }
   ],
   "source": [
    "num_1 = 10\n",
    "num_2 = 9\n",
    "num_3 = 8\n",
    "\n",
    "if num_1 > num_2 and num_1 > num_3:\n",
    "    if num_2 > num_3:\n",
    "      print(num_3 ,num_2 ,num_1)\n",
    "    else:\n",
    "      print(num_2 ,num_3 ,num_1)\n",
    "\n",
    "elif(num_2 > num_1) and (num_2 > num_3):\n",
    "   if num_1 > num_3:\n",
    "       print(num_3 ,num_1 ,num_2)\n",
    "   else:\n",
    "     print(num_1 ,num_3 ,num_2)\n",
    "\n",
    "elif(num_3 > num_1) and (num_3 > num_1) :\n",
    "   if  num_1 > num_2:\n",
    "    print(num_2 ,num_1 ,num_3)\n",
    "\n",
    "else:\n",
    "   print(num_1 ,num_2 ,num_3)"
   ]
  },
  {
   "cell_type": "code",
   "execution_count": 3,
   "metadata": {},
   "outputs": [
    {
     "name": "stdout",
     "output_type": "stream",
     "text": [
      "Even\n"
     ]
    }
   ],
   "source": [
    "x = 10\n",
    "result = \"Even\" if x % 2 == 0 else \"Odd\"\n",
    "print(result)"
   ]
  },
  {
   "cell_type": "code",
   "execution_count": 12,
   "metadata": {},
   "outputs": [
    {
     "name": "stdout",
     "output_type": "stream",
     "text": [
      "0\n"
     ]
    }
   ],
   "source": [
    "n = 0\n",
    "abs_value = n if n >= 0 else -n\n",
    "print(abs_value)"
   ]
  },
  {
   "cell_type": "code",
   "execution_count": 11,
   "metadata": {},
   "outputs": [
    {
     "name": "stdout",
     "output_type": "stream",
     "text": [
      "0\n"
     ]
    }
   ],
   "source": [
    "n = 0\n",
    "print(n) if n >= 0 else print(-n)\n"
   ]
  },
  {
   "cell_type": "code",
   "execution_count": 20,
   "metadata": {},
   "outputs": [
    {
     "name": "stdout",
     "output_type": "stream",
     "text": [
      "Variable is 10\n"
     ]
    }
   ],
   "source": [
    "variable = 10\n",
    "\n",
    "match variable:\n",
    "    case 10:\n",
    "        print(\"Variable is 10\")\n",
    "    case 11:\n",
    "        print(\"Variable is 11\")\n",
    "    case _:\n",
    "        print(\"Variable is neither 10 or 11\")"
   ]
  },
  {
   "cell_type": "code",
   "execution_count": 25,
   "metadata": {},
   "outputs": [
    {
     "name": "stdout",
     "output_type": "stream",
     "text": [
      "Enter a number between 1-7\n"
     ]
    }
   ],
   "source": [
    "day = int(input(\"Enter the day number(1-7):\"))\n",
    "\n",
    "match day:\n",
    "    case 1:\n",
    "        print(\"Monday\")\n",
    "    case 2:\n",
    "        print(\"Tuesday\")\n",
    "    case 3:\n",
    "        print(\"Wednesday\")\n",
    "    case 4:\n",
    "        print(\"Thursday\")\n",
    "    case 5:\n",
    "        print(\"Friday\")\n",
    "    case 6:\n",
    "        print(\"Saturday\")\n",
    "    case 7:\n",
    "        print(\"Sunday\")\n",
    "    case _:\n",
    "        print(\"Enter a number between 1-7\")"
   ]
  },
  {
   "cell_type": "code",
   "execution_count": 33,
   "metadata": {},
   "outputs": [
    {
     "name": "stdout",
     "output_type": "stream",
     "text": [
      "Go\n"
     ]
    }
   ],
   "source": [
    "traffic_colour = input(\"Enter the traffic light colour: \").lower()\n",
    "\n",
    "match traffic_colour:\n",
    "    case \"red\" | \"blinking\":\n",
    "        print(\"Stop\")\n",
    "    case \"yellow\":\n",
    "        print(\"Slow down\")\n",
    "    case \"green\":\n",
    "        print(\"Go\")\n",
    "    case _:\n",
    "        print(\"Invalid Colour\")"
   ]
  },
  {
   "cell_type": "code",
   "execution_count": 36,
   "metadata": {},
   "outputs": [
    {
     "name": "stdout",
     "output_type": "stream",
     "text": [
      "14\n"
     ]
    }
   ],
   "source": [
    "numbers = [4 , 3, 7]\n",
    "\n",
    "match numbers:\n",
    "    case [x, y]:\n",
    "        print(x * y)\n",
    "    case [x, y, z]:\n",
    "        print(x + y + z)\n",
    "    case _:\n",
    "        print(\"The lsit doesn't contain 2 or 3 numbers\")"
   ]
  },
  {
   "cell_type": "code",
   "execution_count": 44,
   "metadata": {},
   "outputs": [
    {
     "name": "stdout",
     "output_type": "stream",
     "text": [
      "Difference is: 40\n"
     ]
    }
   ],
   "source": [
    "temperature_readings = [20, 10, 30 ,40]\n",
    "\n",
    "match temperature_readings:\n",
    "    case [a, b]:\n",
    "        print(\"Average is :\", (a + b)/2)\n",
    "    case [a, b, c, d ]:\n",
    "        if((c+d)> (a+b) ):\n",
    "         print(\"Difference is:\",-((a+b) - (c+d)))\n",
    "        else:\n",
    "         print(\"Difference is:\",((a+b) - (c+d)))\n",
    "    case _:\n",
    "        print(\"Unsupported number of readings\")\n"
   ]
  },
  {
   "cell_type": "code",
   "execution_count": 1,
   "metadata": {},
   "outputs": [
    {
     "name": "stdout",
     "output_type": "stream",
     "text": [
      "12\n",
      "8\n",
      "18\n"
     ]
    }
   ],
   "source": [
    "my_list = [12, 5, 8, 9, 18]\n",
    "for item in my_list:\n",
    "    if item % 2 == 0:\n",
    "        print(item)"
   ]
  },
  {
   "cell_type": "code",
   "execution_count": 1,
   "metadata": {},
   "outputs": [
    {
     "name": "stdout",
     "output_type": "stream",
     "text": [
      "1\n",
      "4\n",
      "9\n",
      "16\n",
      "25\n",
      "36\n",
      "49\n",
      "64\n",
      "81\n",
      "100\n"
     ]
    }
   ],
   "source": [
    "for i in range(1,11):\n",
    "      print(i**2)"
   ]
  },
  {
   "cell_type": "code",
   "execution_count": 23,
   "metadata": {},
   "outputs": [
    {
     "name": "stdout",
     "output_type": "stream",
     "text": [
      "1\n",
      "4\n",
      "9\n"
     ]
    }
   ],
   "source": [
    "n = int(input(\"Enter a positive integer: \"))\n",
    "if n < 0:\n",
    "    print(\"Enter a positive number\")\n",
    "else:\n",
    "    for i in range(1,n):\n",
    "      square_value = i ** 2\n",
    "      if(square_value < n):\n",
    "        print(square_value)\n",
    "      else:\n",
    "         break\n"
   ]
  },
  {
   "cell_type": "code",
   "execution_count": 55,
   "metadata": {},
   "outputs": [
    {
     "name": "stdout",
     "output_type": "stream",
     "text": [
      "number is not present\n"
     ]
    }
   ],
   "source": [
    "n = int(input(\"Enter the number: \"))\n",
    "found = False\n",
    "my_list = [10, 8, 20, 30, 23, 45]\n",
    "\n",
    "for i in my_list:\n",
    "    if(n == i):\n",
    "        found = True\n",
    "        print(\"number is present\",i)\n",
    "        \n",
    "if not found:\n",
    "         print(\"number is not present\")\n",
    "\n",
    "         \n",
    "         "
   ]
  },
  {
   "cell_type": "code",
   "execution_count": 60,
   "metadata": {},
   "outputs": [
    {
     "name": "stdout",
     "output_type": "stream",
     "text": [
      "number is present 30\n"
     ]
    }
   ],
   "source": [
    "n = int(input(\"Enter the number: \"))\n",
    "my_list = [10, 8, 20, 30, 23, 45]\n",
    "\n",
    "for i in my_list:\n",
    "    if(n == i):\n",
    "        print(\"number is present\",i)\n",
    "        break\n",
    "else:\n",
    "    print(\"number is not present\")"
   ]
  },
  {
   "cell_type": "code",
   "execution_count": 27,
   "metadata": {},
   "outputs": [
    {
     "name": "stdout",
     "output_type": "stream",
     "text": [
      "300\n"
     ]
    }
   ],
   "source": [
    "my_list = [1, 12, 300, 23, 25]\n",
    "max = my_list[0]\n",
    "\n",
    "for i in my_list:\n",
    "    if (i > max):\n",
    "        max = i\n",
    "\n",
    "print(max)\n",
    "\n",
    "\n"
   ]
  },
  {
   "cell_type": "code",
   "execution_count": 28,
   "metadata": {},
   "outputs": [
    {
     "name": "stdout",
     "output_type": "stream",
     "text": [
      "[25, 100, 144, 64, 49]\n"
     ]
    }
   ],
   "source": [
    "my_list = [5, 10, 12, 8, 7]\n",
    "\n",
    "results = [item ** 2 for item in my_list]\n",
    "print(results)"
   ]
  },
  {
   "cell_type": "code",
   "execution_count": 29,
   "metadata": {},
   "outputs": [
    {
     "name": "stdout",
     "output_type": "stream",
     "text": [
      "[4, 16, 36, 64, 100]\n"
     ]
    }
   ],
   "source": [
    "results = [item ** 2 for item in range(1,11) if item % 2 == 0]\n",
    "print(results)"
   ]
  },
  {
   "cell_type": "code",
   "execution_count": 30,
   "metadata": {},
   "outputs": [
    {
     "name": "stdout",
     "output_type": "stream",
     "text": [
      "1\n"
     ]
    }
   ],
   "source": [
    "n = int(input(\"Enter the number: \"))\n",
    "i = 1\n",
    "while i < n:\n",
    "    print(i)\n",
    "    i = i+1"
   ]
  },
  {
   "cell_type": "code",
   "execution_count": 32,
   "metadata": {},
   "outputs": [
    {
     "name": "stdout",
     "output_type": "stream",
     "text": [
      "reverse is:  5279\n"
     ]
    }
   ],
   "source": [
    "number = 9725\n",
    "rev = 0\n",
    "while number > 0:\n",
    "    digit = number % 10\n",
    "    rev = rev * 10 + digit\n",
    "    number = number // 10\n",
    "\n",
    "print(\"reverse is: \",rev)"
   ]
  }
 ],
 "metadata": {
  "kernelspec": {
   "display_name": "Python 3",
   "language": "python",
   "name": "python3"
  },
  "language_info": {
   "codemirror_mode": {
    "name": "ipython",
    "version": 3
   },
   "file_extension": ".py",
   "mimetype": "text/x-python",
   "name": "python",
   "nbconvert_exporter": "python",
   "pygments_lexer": "ipython3",
   "version": "3.13.3"
  }
 },
 "nbformat": 4,
 "nbformat_minor": 2
}
