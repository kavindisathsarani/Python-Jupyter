{
 "cells": [
  {
   "cell_type": "code",
   "execution_count": 1,
   "id": "8d6ad8e2",
   "metadata": {},
   "outputs": [
    {
     "name": "stdout",
     "output_type": "stream",
     "text": [
      "44\n"
     ]
    }
   ],
   "source": [
    "my_list = [8, 9, 12, 15]\n",
    "print(sum(my_list))"
   ]
  },
  {
   "cell_type": "code",
   "execution_count": 2,
   "id": "71764000",
   "metadata": {},
   "outputs": [
    {
     "name": "stdout",
     "output_type": "stream",
     "text": [
      "False\n"
     ]
    }
   ],
   "source": [
    "x = 10.5\n",
    "print(isinstance(x,int))"
   ]
  },
  {
   "cell_type": "code",
   "execution_count": null,
   "id": "2548abe1",
   "metadata": {},
   "outputs": [
    {
     "name": "stdout",
     "output_type": "stream",
     "text": [
      "True\n"
     ]
    }
   ],
   "source": [
    "x = 10\n",
    "print(isinstance(x,(int, float)))  #This returns True as long as x is a float or an int"
   ]
  },
  {
   "cell_type": "code",
   "execution_count": 4,
   "id": "661e9b66",
   "metadata": {},
   "outputs": [
    {
     "name": "stdout",
     "output_type": "stream",
     "text": [
      "My name is John and I am 30 years old.\n"
     ]
    }
   ],
   "source": [
    "name = \"John\"\n",
    "age = 30\n",
    "\n",
    "print(f\"My name is {name} and I am {age} years old.\")"
   ]
  }
 ],
 "metadata": {
  "kernelspec": {
   "display_name": "Python 3",
   "language": "python",
   "name": "python3"
  },
  "language_info": {
   "codemirror_mode": {
    "name": "ipython",
    "version": 3
   },
   "file_extension": ".py",
   "mimetype": "text/x-python",
   "name": "python",
   "nbconvert_exporter": "python",
   "pygments_lexer": "ipython3",
   "version": "3.13.3"
  }
 },
 "nbformat": 4,
 "nbformat_minor": 5
}
