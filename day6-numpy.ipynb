{
 "cells": [
  {
   "cell_type": "code",
   "execution_count": 2,
   "id": "7a277f43",
   "metadata": {},
   "outputs": [
    {
     "name": "stdout",
     "output_type": "stream",
     "text": [
      "[ 5  8  3 10]\n",
      "<class 'numpy.ndarray'>\n"
     ]
    }
   ],
   "source": [
    "import numpy as np\n",
    "\n",
    "arr = np.array([5,8,3,10])\n",
    "\n",
    "print(arr)\n",
    "print(type(arr))"
   ]
  },
  {
   "cell_type": "code",
   "execution_count": 8,
   "id": "ce7694e4",
   "metadata": {},
   "outputs": [
    {
     "name": "stdout",
     "output_type": "stream",
     "text": [
      "[11 10 11 21]\n",
      "[-1  6 -5 -1]\n",
      "[ 30  16  24 110]\n"
     ]
    }
   ],
   "source": [
    "import numpy as np\n",
    "arr_1 = np.array( [5,8,3,10] )\n",
    "\n",
    "arr_2=np.array( [6,2,8,11] )\n",
    "\n",
    "result_addition = arr_1 + arr_2\n",
    "print(result_addition)\n",
    "\n",
    "substract_addition = arr_1 - arr_2\n",
    "print(substract_addition)\n",
    "\n",
    "multiply_result = arr_1 * arr_2\n",
    "print(multiply_result)"
   ]
  },
  {
   "cell_type": "code",
   "execution_count": 9,
   "id": "046a3593",
   "metadata": {},
   "outputs": [
    {
     "name": "stdout",
     "output_type": "stream",
     "text": [
      "[0.83333333 4.         0.375      0.90909091]\n"
     ]
    }
   ],
   "source": [
    "devision_result = arr_1 / arr_2\n",
    "print(devision_result)"
   ]
  },
  {
   "cell_type": "code",
   "execution_count": 10,
   "id": "57823b9c",
   "metadata": {},
   "outputs": [
    {
     "name": "stdout",
     "output_type": "stream",
     "text": [
      "[ 4.  3.  6. 10.]\n"
     ]
    }
   ],
   "source": [
    "arr_1 = np.array([16,9,36,100])\n",
    "print(np.sqrt(arr_1))"
   ]
  },
  {
   "cell_type": "code",
   "execution_count": 12,
   "id": "08cb89b2",
   "metadata": {},
   "outputs": [
    {
     "name": "stdout",
     "output_type": "stream",
     "text": [
      "161\n",
      "100\n",
      "2\n"
     ]
    }
   ],
   "source": [
    "print(np.sum(arr_1))\n",
    "print(np.max(arr_1))\n",
    "print(np.min(arr_2))"
   ]
  },
  {
   "cell_type": "code",
   "execution_count": 16,
   "id": "fc681bc4",
   "metadata": {},
   "outputs": [
    {
     "name": "stdout",
     "output_type": "stream",
     "text": [
      "[[ 9 10  5]\n",
      " [ 8 12 20]]\n",
      "6\n",
      "2\n",
      "(2, 3)\n"
     ]
    }
   ],
   "source": [
    "arr_1 = np.array([[9, 10,5],[8,12,20]])\n",
    "print(arr_1)\n",
    "print(arr_1.size)\n",
    "print(arr_1.ndim)\n",
    "print(arr_1.shape)\n"
   ]
  },
  {
   "cell_type": "code",
   "execution_count": 20,
   "id": "59fb1c53",
   "metadata": {},
   "outputs": [
    {
     "name": "stdout",
     "output_type": "stream",
     "text": [
      "[[[ 9 10  5]\n",
      "  [ 8 12 20]]\n",
      "\n",
      " [[ 1  2  3]\n",
      "  [ 4  5  6]]]\n",
      "12\n",
      "3\n",
      "(2, 2, 3)\n"
     ]
    }
   ],
   "source": [
    "arr_1 = np.array([[[9, 10,5],[8,12,20]],[[1,2,3],[4,5,6]]])\n",
    "print(arr_1)\n",
    "print(arr_1.size)\n",
    "print(arr_1.ndim)\n",
    "print(arr_1.shape)"
   ]
  },
  {
   "cell_type": "code",
   "execution_count": null,
   "id": "3ca919dd",
   "metadata": {},
   "outputs": [
    {
     "name": "stdout",
     "output_type": "stream",
     "text": [
      "<U21\n"
     ]
    }
   ],
   "source": [
    "array = np.array([1,2,3,True])\n",
    "print(array.dtype)"
   ]
  },
  {
   "cell_type": "code",
   "execution_count": 33,
   "id": "f0c19266",
   "metadata": {},
   "outputs": [
    {
     "name": "stdout",
     "output_type": "stream",
     "text": [
      "6\n"
     ]
    }
   ],
   "source": [
    "arr_2 = np.array([[1,2,3],[4,5,6]])\n",
    "print(arr_2[1, 2])  # Accessing element at row 1, column 2"
   ]
  },
  {
   "cell_type": "code",
   "execution_count": 34,
   "id": "88840723",
   "metadata": {},
   "outputs": [
    {
     "name": "stdout",
     "output_type": "stream",
     "text": [
      "[ True False False  True  True]\n"
     ]
    }
   ],
   "source": [
    "arr = np.array([30, 20, 10, 40, 50])    \n",
    "condition = arr > 25\n",
    "print(condition)  # Output: [ True False False  True  True]"
   ]
  },
  {
   "cell_type": "code",
   "execution_count": 35,
   "id": "1fa78dff",
   "metadata": {},
   "outputs": [
    {
     "name": "stdout",
     "output_type": "stream",
     "text": [
      "[30 40 50]\n"
     ]
    }
   ],
   "source": [
    "print(arr[condition])  # Output: [30 40 50]"
   ]
  },
  {
   "cell_type": "code",
   "execution_count": 44,
   "id": "341ed1bb",
   "metadata": {},
   "outputs": [
    {
     "name": "stdout",
     "output_type": "stream",
     "text": [
      "[30 40]\n"
     ]
    }
   ],
   "source": [
    "arr_1 = np.array([30, 20, 10, 40, 50])\n",
    "print(arr_1[(arr_1 > 25) & (arr_1 < 45)])"
   ]
  },
  {
   "cell_type": "code",
   "execution_count": 63,
   "id": "077d6bfb",
   "metadata": {},
   "outputs": [
    {
     "name": "stdout",
     "output_type": "stream",
     "text": [
      "29.666666666666668\n",
      "[31 30 32 31 34 35 31 30]\n"
     ]
    }
   ],
   "source": [
    "arr = np.array([\n",
    "\t            [31,30,28],\n",
    "\t\t\t\t[29,29,32],\n",
    "\t\t\t\t[26,24,27],\n",
    "\t\t\t\t[31,34,35],\n",
    "\t\t\t\t[28,31,30]\n",
    "\t\t\t\t])\n",
    "\n",
    "daily_average = np.mean(arr)\n",
    "print(daily_average)\n",
    "\n",
    "print(arr[arr > daily_average])"
   ]
  }
 ],
 "metadata": {
  "kernelspec": {
   "display_name": "Python 3",
   "language": "python",
   "name": "python3"
  },
  "language_info": {
   "codemirror_mode": {
    "name": "ipython",
    "version": 3
   },
   "file_extension": ".py",
   "mimetype": "text/x-python",
   "name": "python",
   "nbconvert_exporter": "python",
   "pygments_lexer": "ipython3",
   "version": "3.13.3"
  }
 },
 "nbformat": 4,
 "nbformat_minor": 5
}
