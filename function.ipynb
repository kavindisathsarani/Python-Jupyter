{
 "cells": [
  {
   "cell_type": "code",
   "execution_count": 1,
   "id": "eeec8000",
   "metadata": {},
   "outputs": [
    {
     "name": "stdout",
     "output_type": "stream",
     "text": [
      "17\n"
     ]
    }
   ],
   "source": [
    "def add_numbers(a,b):\n",
    "    return a+ b\n",
    "print(add_numbers(8,9))"
   ]
  },
  {
   "cell_type": "code",
   "execution_count": 2,
   "id": "cadab589",
   "metadata": {},
   "outputs": [
    {
     "name": "stdout",
     "output_type": "stream",
     "text": [
      "3\n"
     ]
    }
   ],
   "source": [
    "def count_even_numbers(a, b, c, d):\n",
    "     num_list = [a, b , c, d]\n",
    "     count = 0\n",
    "     for num in num_list:\n",
    "            if num % 2 == 0:\n",
    "             count += 1\n",
    "\n",
    "     return count\n",
    "\n",
    "print(count_even_numbers(1, 2, 8, 4))"
   ]
  },
  {
   "cell_type": "code",
   "execution_count": 3,
   "id": "d1440ca6",
   "metadata": {},
   "outputs": [
    {
     "name": "stdout",
     "output_type": "stream",
     "text": [
      "3\n"
     ]
    }
   ],
   "source": [
    "def count_even_numbers(num_list):\n",
    "     count = 0\n",
    "     for num in num_list:\n",
    "            if num % 2 == 0:\n",
    "             count += 1\n",
    "\n",
    "     return count\n",
    "\n",
    "my_list =[1, 2, 8, 4]\n",
    "print(count_even_numbers(my_list))"
   ]
  },
  {
   "cell_type": "code",
   "execution_count": 9,
   "id": "7768f914",
   "metadata": {},
   "outputs": [
    {
     "name": "stdout",
     "output_type": "stream",
     "text": [
      "71\n"
     ]
    }
   ],
   "source": [
    "def find_max(list):\n",
    "    max = list[0]\n",
    "    for num in list:\n",
    "        if num > max:\n",
    "            max = num\n",
    "    return max\n",
    "\n",
    "my_list = [3,2,71,1,2,24]\n",
    "print(find_max(my_list))"
   ]
  },
  {
   "cell_type": "code",
   "execution_count": null,
   "id": "468df3b3",
   "metadata": {},
   "outputs": [
    {
     "name": "stdout",
     "output_type": "stream",
     "text": [
      "[3, 2, 71, 1, 24]\n"
     ]
    }
   ],
   "source": [
    "def remove_duplicates(lst):\n",
    "    list_1 = []\n",
    "    for item in lst:\n",
    "        if item not in list_1 :\n",
    "           list_1 .append(item)\n",
    "    return list_1 \n",
    "\n",
    "my_list = [3, 2, 71, 1, 2, 24]\n",
    "print(remove_duplicates(my_list))\n",
    "\n"
   ]
  },
  {
   "cell_type": "code",
   "execution_count": 42,
   "id": "7048c834",
   "metadata": {},
   "outputs": [
    {
     "name": "stdout",
     "output_type": "stream",
     "text": [
      "24\n"
     ]
    }
   ],
   "source": [
    "def factorial(n):\n",
    "    if n == 0 :\n",
    "        return 1\n",
    "    result = 1\n",
    "\n",
    "    for i in range(1, n+1):\n",
    "        result *= i\n",
    "    return result\n",
    "\n",
    "print(factorial(4))\n"
   ]
  },
  {
   "cell_type": "code",
   "execution_count": null,
   "id": "0d5e9dbc",
   "metadata": {},
   "outputs": [
    {
     "name": "stdout",
     "output_type": "stream",
     "text": [
      "15\n",
      "17\n"
     ]
    }
   ],
   "source": [
    "def add_numbers(a, b = 8):\n",
    "    return a + b\n",
    "\n",
    "print(add_numbers(9,6)) #9+6=15\n",
    "print(add_numbers(9))   #9+8=17"
   ]
  },
  {
   "cell_type": "code",
   "execution_count": null,
   "id": "5a31676e",
   "metadata": {},
   "outputs": [
    {
     "name": "stdout",
     "output_type": "stream",
     "text": [
      "32\n",
      "9\n"
     ]
    }
   ],
   "source": [
    "def power(num, exponent=2):\n",
    "    return num ** exponent\n",
    "\n",
    "print(power(2,5)) #32\n",
    "print(power(3))   #9\n"
   ]
  },
  {
   "cell_type": "code",
   "execution_count": 53,
   "id": "b5a1d6ed",
   "metadata": {},
   "outputs": [
    {
     "name": "stdout",
     "output_type": "stream",
     "text": [
      "a:  4\n",
      "b:  6\n",
      "a:  8\n",
      "b:  10\n"
     ]
    }
   ],
   "source": [
    "def display_numbers(a, b):\n",
    "    print(\"a: \",a)\n",
    "    print(\"b: \",b)\n",
    "\n",
    "display_numbers(b = 6, a = 4)\n",
    "display_numbers(a = 8, b = 10)\n",
    "\n",
    "#a:  4\n",
    "#b:  6\n",
    "#a:  8\n",
    "#b:  10"
   ]
  },
  {
   "cell_type": "code",
   "execution_count": 66,
   "id": "6e0f0b15",
   "metadata": {},
   "outputs": [
    {
     "name": "stdout",
     "output_type": "stream",
     "text": [
      "4500.0\n",
      "5400.0\n",
      "4250.0\n",
      "4800.0\n"
     ]
    }
   ],
   "source": [
    "def net_salary_calculate(base_salary ,bonus = 0, tax = 0.1):\n",
    "    gross = base_salary + bonus\n",
    "    net_salary = gross * (1-tax)\n",
    "\n",
    "    return net_salary\n",
    "\n",
    "print(net_salary_calculate(5000))\n",
    "print(net_salary_calculate(5000,bonus=1000))\n",
    "print(net_salary_calculate(5000,tax=0.15))\n",
    "print(net_salary_calculate(base_salary=5000,tax=0.2,bonus=1000))\n",
    "\n",
    "\n"
   ]
  },
  {
   "cell_type": "code",
   "execution_count": 75,
   "id": "0ae21931",
   "metadata": {},
   "outputs": [
    {
     "name": "stdout",
     "output_type": "stream",
     "text": [
      "(5, 8, 9, 12)\n",
      "<class 'tuple'>\n"
     ]
    }
   ],
   "source": [
    "def arbitrary_positional_arguments(*args):\n",
    "    print(args)\n",
    "    print(type(args))\n",
    "\n",
    "arbitrary_positional_arguments(5, 8, 9, 12)\n"
   ]
  },
  {
   "cell_type": "code",
   "execution_count": 77,
   "id": "381c664e",
   "metadata": {},
   "outputs": [
    {
     "name": "stdout",
     "output_type": "stream",
     "text": [
      "120\n"
     ]
    }
   ],
   "source": [
    "def multiply_all(*args):\n",
    "    result = 1\n",
    "    for num in args:\n",
    "        result *= num\n",
    "    return result\n",
    "\n",
    "print(multiply_all(2, 3, 4, 5)) \n"
   ]
  },
  {
   "cell_type": "code",
   "execution_count": 81,
   "id": "a098577b",
   "metadata": {},
   "outputs": [
    {
     "name": "stdout",
     "output_type": "stream",
     "text": [
      "name \n",
      "age \n",
      "city \n",
      "John\n",
      "28\n",
      "colombo\n",
      "key: name  , value: John\n",
      "key: age  , value: 28\n",
      "key: city  , value: colombo\n"
     ]
    }
   ],
   "source": [
    "dict = {\n",
    "    \"name \":\"John\",\n",
    "    \"age \":28,\n",
    "    \"city \":\"colombo\"\n",
    "}\n",
    "\n",
    "for key in dict.keys():\n",
    "    print(key)\n",
    "\n",
    "for value in dict.values():\n",
    "    print(value)\n",
    "\n",
    "for key,value in dict.items():\n",
    "    print(\"key:\", key, \", value:\", value)"
   ]
  },
  {
   "cell_type": "code",
   "execution_count": 84,
   "id": "badd71a5",
   "metadata": {},
   "outputs": [
    {
     "name": "stdout",
     "output_type": "stream",
     "text": [
      "{'name': 'John', 'age': 28, 'city': 'Colombo'}\n",
      "<class 'dict'>\n",
      "key: name  , value: John\n",
      "key: age  , value: 28\n",
      "key: city  , value: colombo\n"
     ]
    }
   ],
   "source": [
    "def arbitrary_keyword_args(**kwargs):\n",
    "    print(kwargs)\n",
    "    print(type(kwargs))\n",
    "\n",
    "    for key,value in dict.items():\n",
    "      print(\"key:\", key, \", value:\", value)\n",
    "\n",
    "arbitrary_keyword_args(name=\"John\", age=28, city=\"Colombo\")"
   ]
  }
 ],
 "metadata": {
  "kernelspec": {
   "display_name": "Python 3",
   "language": "python",
   "name": "python3"
  },
  "language_info": {
   "codemirror_mode": {
    "name": "ipython",
    "version": 3
   },
   "file_extension": ".py",
   "mimetype": "text/x-python",
   "name": "python",
   "nbconvert_exporter": "python",
   "pygments_lexer": "ipython3",
   "version": "3.13.3"
  }
 },
 "nbformat": 4,
 "nbformat_minor": 5
}
