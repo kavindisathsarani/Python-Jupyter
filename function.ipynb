{
 "cells": [
  {
   "cell_type": "code",
   "execution_count": 1,
   "id": "eeec8000",
   "metadata": {},
   "outputs": [
    {
     "name": "stdout",
     "output_type": "stream",
     "text": [
      "17\n"
     ]
    }
   ],
   "source": [
    "def add_numbers(a,b):\n",
    "    return a+ b\n",
    "print(add_numbers(8,9))"
   ]
  },
  {
   "cell_type": "code",
   "execution_count": 2,
   "id": "cadab589",
   "metadata": {},
   "outputs": [
    {
     "name": "stdout",
     "output_type": "stream",
     "text": [
      "3\n"
     ]
    }
   ],
   "source": [
    "def count_even_numbers(a, b, c, d):\n",
    "     num_list = [a, b , c, d]\n",
    "     count = 0\n",
    "     for num in num_list:\n",
    "            if num % 2 == 0:\n",
    "             count += 1\n",
    "\n",
    "     return count\n",
    "\n",
    "print(count_even_numbers(1, 2, 8, 4))"
   ]
  },
  {
   "cell_type": "code",
   "execution_count": 3,
   "id": "d1440ca6",
   "metadata": {},
   "outputs": [
    {
     "name": "stdout",
     "output_type": "stream",
     "text": [
      "3\n"
     ]
    }
   ],
   "source": [
    "def count_even_numbers(num_list):\n",
    "     count = 0\n",
    "     for num in num_list:\n",
    "            if num % 2 == 0:\n",
    "             count += 1\n",
    "\n",
    "     return count\n",
    "\n",
    "my_list =[1, 2, 8, 4]\n",
    "print(count_even_numbers(my_list))"
   ]
  },
  {
   "cell_type": "code",
   "execution_count": 9,
   "id": "7768f914",
   "metadata": {},
   "outputs": [
    {
     "name": "stdout",
     "output_type": "stream",
     "text": [
      "71\n"
     ]
    }
   ],
   "source": [
    "def find_max(list):\n",
    "    max = list[0]\n",
    "    for num in list:\n",
    "        if num > max:\n",
    "            max = num\n",
    "    return max\n",
    "\n",
    "my_list = [3,2,71,1,2,24]\n",
    "print(find_max(my_list))"
   ]
  },
  {
   "cell_type": "code",
   "execution_count": null,
   "id": "468df3b3",
   "metadata": {},
   "outputs": [
    {
     "name": "stdout",
     "output_type": "stream",
     "text": [
      "[3, 2, 71, 1, 24]\n"
     ]
    }
   ],
   "source": [
    "def remove_duplicates(lst):\n",
    "    list_1 = []\n",
    "    for item in lst:\n",
    "        if item not in list_1 :\n",
    "           list_1 .append(item)\n",
    "    return list_1 \n",
    "\n",
    "my_list = [3, 2, 71, 1, 2, 24]\n",
    "print(remove_duplicates(my_list))\n",
    "\n"
   ]
  },
  {
   "cell_type": "code",
   "execution_count": 42,
   "id": "7048c834",
   "metadata": {},
   "outputs": [
    {
     "name": "stdout",
     "output_type": "stream",
     "text": [
      "24\n"
     ]
    }
   ],
   "source": [
    "def factorial(n):\n",
    "    if n == 0 :\n",
    "        return 1\n",
    "    result = 1\n",
    "\n",
    "    for i in range(1, n+1):\n",
    "        result *= i\n",
    "    return result\n",
    "\n",
    "print(factorial(4))\n"
   ]
  }
 ],
 "metadata": {
  "kernelspec": {
   "display_name": "Python 3",
   "language": "python",
   "name": "python3"
  },
  "language_info": {
   "codemirror_mode": {
    "name": "ipython",
    "version": 3
   },
   "file_extension": ".py",
   "mimetype": "text/x-python",
   "name": "python",
   "nbconvert_exporter": "python",
   "pygments_lexer": "ipython3",
   "version": "3.13.3"
  }
 },
 "nbformat": 4,
 "nbformat_minor": 5
}
