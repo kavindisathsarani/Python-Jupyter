{
 "cells": [
  {
   "cell_type": "code",
   "execution_count": 2,
   "id": "7a277f43",
   "metadata": {},
   "outputs": [
    {
     "name": "stdout",
     "output_type": "stream",
     "text": [
      "[ 5  8  3 10]\n",
      "<class 'numpy.ndarray'>\n"
     ]
    }
   ],
   "source": [
    "import numpy as np\n",
    "\n",
    "arr = np.array([5,8,3,10])\n",
    "\n",
    "print(arr)\n",
    "print(type(arr))"
   ]
  },
  {
   "cell_type": "code",
   "execution_count": 8,
   "id": "ce7694e4",
   "metadata": {},
   "outputs": [
    {
     "name": "stdout",
     "output_type": "stream",
     "text": [
      "[11 10 11 21]\n",
      "[-1  6 -5 -1]\n",
      "[ 30  16  24 110]\n"
     ]
    }
   ],
   "source": [
    "import numpy as np\n",
    "arr_1 = np.array( [5,8,3,10] )\n",
    "\n",
    "arr_2=np.array( [6,2,8,11] )\n",
    "\n",
    "result_addition = arr_1 + arr_2\n",
    "print(result_addition)\n",
    "\n",
    "substract_addition = arr_1 - arr_2\n",
    "print(substract_addition)\n",
    "\n",
    "multiply_result = arr_1 * arr_2\n",
    "print(multiply_result)"
   ]
  },
  {
   "cell_type": "code",
   "execution_count": 9,
   "id": "046a3593",
   "metadata": {},
   "outputs": [
    {
     "name": "stdout",
     "output_type": "stream",
     "text": [
      "[0.83333333 4.         0.375      0.90909091]\n"
     ]
    }
   ],
   "source": [
    "devision_result = arr_1 / arr_2\n",
    "print(devision_result)"
   ]
  },
  {
   "cell_type": "code",
   "execution_count": 10,
   "id": "57823b9c",
   "metadata": {},
   "outputs": [
    {
     "name": "stdout",
     "output_type": "stream",
     "text": [
      "[ 4.  3.  6. 10.]\n"
     ]
    }
   ],
   "source": [
    "arr_1 = np.array([16,9,36,100])\n",
    "print(np.sqrt(arr_1))"
   ]
  },
  {
   "cell_type": "code",
   "execution_count": 12,
   "id": "08cb89b2",
   "metadata": {},
   "outputs": [
    {
     "name": "stdout",
     "output_type": "stream",
     "text": [
      "161\n",
      "100\n",
      "2\n"
     ]
    }
   ],
   "source": [
    "print(np.sum(arr_1))\n",
    "print(np.max(arr_1))\n",
    "print(np.min(arr_2))"
   ]
  },
  {
   "cell_type": "code",
   "execution_count": 16,
   "id": "fc681bc4",
   "metadata": {},
   "outputs": [
    {
     "name": "stdout",
     "output_type": "stream",
     "text": [
      "[[ 9 10  5]\n",
      " [ 8 12 20]]\n",
      "6\n",
      "2\n",
      "(2, 3)\n"
     ]
    }
   ],
   "source": [
    "arr_1 = np.array([[9, 10,5],[8,12,20]])\n",
    "print(arr_1)\n",
    "print(arr_1.size)\n",
    "print(arr_1.ndim)\n",
    "print(arr_1.shape)\n"
   ]
  },
  {
   "cell_type": "code",
   "execution_count": 20,
   "id": "59fb1c53",
   "metadata": {},
   "outputs": [
    {
     "name": "stdout",
     "output_type": "stream",
     "text": [
      "[[[ 9 10  5]\n",
      "  [ 8 12 20]]\n",
      "\n",
      " [[ 1  2  3]\n",
      "  [ 4  5  6]]]\n",
      "12\n",
      "3\n",
      "(2, 2, 3)\n"
     ]
    }
   ],
   "source": [
    "arr_1 = np.array([[[9, 10,5],[8,12,20]],[[1,2,3],[4,5,6]]])\n",
    "print(arr_1)\n",
    "print(arr_1.size)\n",
    "print(arr_1.ndim)\n",
    "print(arr_1.shape)"
   ]
  },
  {
   "cell_type": "code",
   "execution_count": null,
   "id": "3ca919dd",
   "metadata": {},
   "outputs": [
    {
     "name": "stdout",
     "output_type": "stream",
     "text": [
      "<U21\n"
     ]
    }
   ],
   "source": [
    "array = np.array([1,2,3,True])\n",
    "print(array.dtype)"
   ]
  },
  {
   "cell_type": "code",
   "execution_count": 33,
   "id": "f0c19266",
   "metadata": {},
   "outputs": [
    {
     "name": "stdout",
     "output_type": "stream",
     "text": [
      "6\n"
     ]
    }
   ],
   "source": [
    "arr_2 = np.array([[1,2,3],[4,5,6]])\n",
    "print(arr_2[1, 2])  # Accessing element at row 1, column 2"
   ]
  },
  {
   "cell_type": "code",
   "execution_count": 34,
   "id": "88840723",
   "metadata": {},
   "outputs": [
    {
     "name": "stdout",
     "output_type": "stream",
     "text": [
      "[ True False False  True  True]\n"
     ]
    }
   ],
   "source": [
    "arr = np.array([30, 20, 10, 40, 50])    \n",
    "condition = arr > 25\n",
    "print(condition)  # Output: [ True False False  True  True]"
   ]
  },
  {
   "cell_type": "code",
   "execution_count": 35,
   "id": "1fa78dff",
   "metadata": {},
   "outputs": [
    {
     "name": "stdout",
     "output_type": "stream",
     "text": [
      "[30 40 50]\n"
     ]
    }
   ],
   "source": [
    "print(arr[condition])  # Output: [30 40 50]"
   ]
  },
  {
   "cell_type": "code",
   "execution_count": 44,
   "id": "341ed1bb",
   "metadata": {},
   "outputs": [
    {
     "name": "stdout",
     "output_type": "stream",
     "text": [
      "[30 40]\n"
     ]
    }
   ],
   "source": [
    "arr_1 = np.array([30, 20, 10, 40, 50])\n",
    "print(arr_1[(arr_1 > 25) & (arr_1 < 45)])"
   ]
  },
  {
   "cell_type": "code",
   "execution_count": 63,
   "id": "077d6bfb",
   "metadata": {},
   "outputs": [
    {
     "name": "stdout",
     "output_type": "stream",
     "text": [
      "29.666666666666668\n",
      "[31 30 32 31 34 35 31 30]\n"
     ]
    }
   ],
   "source": [
    "arr = np.array([\n",
    "\t            [31,30,28],\n",
    "\t\t\t\t[29,29,32],\n",
    "\t\t\t\t[26,24,27],\n",
    "\t\t\t\t[31,34,35],\n",
    "\t\t\t\t[28,31,30]\n",
    "\t\t\t\t])\n",
    "\n",
    "daily_average = np.mean(arr)\n",
    "print(daily_average)\n",
    "\n",
    "print(arr[arr > daily_average])"
   ]
  },
  {
   "cell_type": "code",
   "execution_count": null,
   "id": "b21e6c00",
   "metadata": {},
   "outputs": [
    {
     "name": "stdout",
     "output_type": "stream",
     "text": [
      "[0. 0. 0. 0. 0.]\n",
      "[[0. 0. 0.]\n",
      " [0. 0. 0.]]\n"
     ]
    }
   ],
   "source": [
    "print(np.zeros(5))  # Creates an array of zeros with 5 elements\n"
   ]
  },
  {
   "cell_type": "code",
   "execution_count": 67,
   "id": "faf4d734",
   "metadata": {},
   "outputs": [
    {
     "name": "stdout",
     "output_type": "stream",
     "text": [
      "[[0. 0. 0.]\n",
      " [0. 0. 0.]]\n"
     ]
    }
   ],
   "source": [
    "print(np.zeros((2,3)))  # Creates a 2x3 array of zeros"
   ]
  },
  {
   "cell_type": "code",
   "execution_count": 68,
   "id": "722d1393",
   "metadata": {},
   "outputs": [
    {
     "name": "stdout",
     "output_type": "stream",
     "text": [
      "[1. 1. 1. 1. 1.]\n"
     ]
    }
   ],
   "source": [
    "print(np.ones(5))  # Creates an array of ones with 5 elements"
   ]
  },
  {
   "cell_type": "code",
   "execution_count": 69,
   "id": "2fd2386d",
   "metadata": {},
   "outputs": [
    {
     "name": "stdout",
     "output_type": "stream",
     "text": [
      "[[1. 1. 1.]\n",
      " [1. 1. 1.]]\n"
     ]
    }
   ],
   "source": [
    "print(np.ones((2,3)))  # Creates a 2x3 array of ones"
   ]
  },
  {
   "cell_type": "code",
   "execution_count": null,
   "id": "9d2af9aa",
   "metadata": {},
   "outputs": [
    {
     "name": "stdout",
     "output_type": "stream",
     "text": [
      "[[7 7 7]\n",
      " [7 7 7]]\n"
     ]
    }
   ],
   "source": [
    "print(np.full((2,3), 7)) # Creates a 2x3 array filled with the value 7"
   ]
  },
  {
   "cell_type": "code",
   "execution_count": null,
   "id": "bf801762",
   "metadata": {},
   "outputs": [
    {
     "name": "stdout",
     "output_type": "stream",
     "text": [
      "[[1 2 3]\n",
      " [1 2 3]]\n"
     ]
    }
   ],
   "source": [
    "print(np.full((2,3), (1,2,3))) "
   ]
  },
  {
   "cell_type": "code",
   "execution_count": 78,
   "id": "b52c3030",
   "metadata": {},
   "outputs": [
    {
     "name": "stdout",
     "output_type": "stream",
     "text": [
      "[[4.9e-324 9.9e-324 1.5e-323]\n",
      " [4.9e-324 9.9e-324 1.5e-323]]\n"
     ]
    }
   ],
   "source": [
    "print(np.empty((2,3))) "
   ]
  },
  {
   "cell_type": "code",
   "execution_count": 80,
   "id": "6ed0e494",
   "metadata": {},
   "outputs": [],
   "source": [
    "import pandas as pd"
   ]
  },
  {
   "cell_type": "code",
   "execution_count": 85,
   "id": "2ba6ddb1",
   "metadata": {},
   "outputs": [
    {
     "name": "stdout",
     "output_type": "stream",
     "text": [
      "      Name  Age\n",
      "0    Alice   25\n",
      "1      Bob   30\n",
      "2  Charlie   35\n",
      "3    David   40\n"
     ]
    }
   ],
   "source": [
    "data = {\n",
    "    'Name': ['Alice', 'Bob', 'Charlie', 'David'],\n",
    "    'Age': [25, 30, 35 , 40]\n",
    "    }\n",
    "df = pd.DataFrame(data)\n",
    "print(df)"
   ]
  },
  {
   "cell_type": "code",
   "execution_count": 86,
   "id": "dfe45a30",
   "metadata": {},
   "outputs": [
    {
     "name": "stdout",
     "output_type": "stream",
     "text": [
      "Alice\n"
     ]
    }
   ],
   "source": [
    "print(df.loc[0 , 'Name'])  # Accessing the 'Name' column of the first row"
   ]
  },
  {
   "cell_type": "code",
   "execution_count": null,
   "id": "33caa24a",
   "metadata": {},
   "outputs": [
    {
     "name": "stdout",
     "output_type": "stream",
     "text": [
      "35\n"
     ]
    }
   ],
   "source": [
    "print(df.iloc[2, 1]) # Accessing the 'Age' column of the third row. This will return the value 35."
   ]
  },
  {
   "cell_type": "code",
   "execution_count": 88,
   "id": "7fed7341",
   "metadata": {},
   "outputs": [
    {
     "name": "stdout",
     "output_type": "stream",
     "text": [
      "Name    Charlie\n",
      "Age          35\n",
      "Name: 2, dtype: object\n"
     ]
    }
   ],
   "source": [
    "print(df.loc[2])"
   ]
  },
  {
   "cell_type": "code",
   "execution_count": 90,
   "id": "e06b977b",
   "metadata": {},
   "outputs": [
    {
     "name": "stdout",
     "output_type": "stream",
     "text": [
      "Name    Charlie\n",
      "Age          35\n",
      "Name: 2, dtype: object\n"
     ]
    }
   ],
   "source": [
    "print(df.iloc[2]) "
   ]
  },
  {
   "cell_type": "code",
   "execution_count": 24,
   "id": "75c0b12e",
   "metadata": {},
   "outputs": [
    {
     "name": "stdout",
     "output_type": "stream",
     "text": [
      "             Name  Age\n",
      "student1    Alice   25\n",
      "student2      Bob   30\n",
      "student3  Charlie   35\n",
      "student4    David   40\n"
     ]
    }
   ],
   "source": [
    "df = pd.DataFrame(data,index=[\"student1\", \"student2\", \"student3\", \"student4\"])\n",
    "print(df)"
   ]
  },
  {
   "cell_type": "code",
   "execution_count": 105,
   "id": "b3940cd8",
   "metadata": {},
   "outputs": [
    {
     "name": "stdout",
     "output_type": "stream",
     "text": [
      "Name    Bob\n",
      "Age      30\n",
      "Name: student2, dtype: object\n",
      "Name    Charlie\n",
      "Age          35\n",
      "Name: student3, dtype: object\n"
     ]
    }
   ],
   "source": [
    "print(df.iloc[1]) \n",
    "print(df.loc['student3'])\n"
   ]
  },
  {
   "cell_type": "code",
   "execution_count": 112,
   "id": "4c8299af",
   "metadata": {},
   "outputs": [
    {
     "name": "stdout",
     "output_type": "stream",
     "text": [
      "           Name  Age\n",
      "student2    Bob   30\n",
      "student4  David   40\n"
     ]
    }
   ],
   "source": [
    "print(df.loc[[\"student2\",\"student4\"]])  \n"
   ]
  },
  {
   "cell_type": "code",
   "execution_count": 111,
   "id": "aac8defc",
   "metadata": {},
   "outputs": [
    {
     "name": "stdout",
     "output_type": "stream",
     "text": [
      "student1    25\n",
      "student2    30\n",
      "student3    35\n",
      "student4    40\n",
      "Name: Age, dtype: int64\n"
     ]
    }
   ],
   "source": [
    "age_column = df['Age']\n",
    "print(age_column)  "
   ]
  },
  {
   "cell_type": "code",
   "execution_count": 116,
   "id": "3bfbccff",
   "metadata": {},
   "outputs": [
    {
     "name": "stdout",
     "output_type": "stream",
     "text": [
      "Index(['Name', 'Age'], dtype='object')\n",
      "['Name', 'Age']\n"
     ]
    }
   ],
   "source": [
    "print(df.columns) # Accessing the columns of the DataFrame\n",
    "print(list(df.columns))  # Convert Index object to a list"
   ]
  },
  {
   "cell_type": "code",
   "execution_count": 119,
   "id": "f6f09925",
   "metadata": {},
   "outputs": [
    {
     "name": "stdout",
     "output_type": "stream",
     "text": [
      "8\n",
      "(4, 2)\n",
      "4\n"
     ]
    }
   ],
   "source": [
    "print(df.size) # Returns the total number of elements in the DataFrame\n",
    "print(df.shape)  # Returns the shape of the DataFrame (rows, columns)\n",
    "print(len(df))  # Returns the number of rows in the DataFrame"
   ]
  },
  {
   "cell_type": "code",
   "execution_count": 14,
   "id": "7d230b6d",
   "metadata": {},
   "outputs": [
    {
     "name": "stdout",
     "output_type": "stream",
     "text": [
      "[['Alice' 25]\n",
      " ['Bob' 30]\n",
      " ['Charlie' 35]\n",
      " ['David' 40]]\n",
      "<class 'numpy.ndarray'>\n"
     ]
    }
   ],
   "source": [
    "print(df.values)  \n",
    "print(type(df.values)) "
   ]
  },
  {
   "cell_type": "code",
   "execution_count": 16,
   "id": "d9c90ed3",
   "metadata": {},
   "outputs": [
    {
     "name": "stdout",
     "output_type": "stream",
     "text": [
      "32.5\n",
      "130\n"
     ]
    }
   ],
   "source": [
    "print(df['Age'].mean()) # Returns the mean of the 'Age' column                                  \n",
    "print(df['Age'].sum())  # Returns the sum of each column"
   ]
  },
  {
   "cell_type": "code",
   "execution_count": 37,
   "id": "f1b56072",
   "metadata": {},
   "outputs": [
    {
     "name": "stdout",
     "output_type": "stream",
     "text": [
      "             Name  Age     City  Salary\n",
      "student1    Alice   25  Colombo   50000\n",
      "student2      Bob   30    Kandy   60000\n",
      "student3  Charlie   35    Galle   70000\n",
      "student4    David   40   Matara   80000\n"
     ]
    }
   ],
   "source": [
    "df['City'] = ['Colombo', 'Kandy', 'Galle', 'Matara']\n",
    "df['Salary'] = [50000, 60000, 70000, 80000]  # Adding a new 'Salary' column\n",
    "print(df)  # Display the updated DataFrame with the new 'city' column"
   ]
  },
  {
   "cell_type": "code",
   "execution_count": 30,
   "id": "7453773b",
   "metadata": {},
   "outputs": [
    {
     "name": "stdout",
     "output_type": "stream",
     "text": [
      "             Name  Age    City  Salary\n",
      "student3  Charlie   35   Galle   70000\n",
      "student4    David   40  Matara   80000\n",
      "<class 'pandas.core.frame.DataFrame'>\n"
     ]
    }
   ],
   "source": [
    "filtered_df = df[df['Age'] > 30]  # Filtering rows where 'Age' is greater than 30\n",
    "print(filtered_df)  # Display the filtered DataFrame\n",
    "print(type(filtered_df))  # Display the type of the filtered DataFrame"
   ]
  },
  {
   "cell_type": "code",
   "execution_count": 36,
   "id": "3ccb2182",
   "metadata": {},
   "outputs": [
    {
     "name": "stdout",
     "output_type": "stream",
     "text": [
      "         Name  Age   City  Salary\n",
      "student2  Bob   30  Kandy   60000\n"
     ]
    }
   ],
   "source": [
    "filtered_df = df[(df['Age'] > 28) & (df['Salary'] < 65000)] \n",
    "print(filtered_df) "
   ]
  },
  {
   "cell_type": "code",
   "execution_count": 53,
   "id": "96171f1b",
   "metadata": {},
   "outputs": [
    {
     "name": "stdout",
     "output_type": "stream",
     "text": [
      "       Name  Assignment1  Assignment2  FinalExam\n",
      "0    Ayesha           78           85         90\n",
      "1     Nimal           65           70         72\n",
      "2  Tharindu           88           90         95\n",
      "3     Kasun           50           45         60\n",
      "4  Shashini           80           75         85\n"
     ]
    }
   ],
   "source": [
    "data = {\n",
    "    'Name': ['Ayesha', 'Nimal', 'Tharindu', 'Kasun','Shashini'],\n",
    "    'Assignment1': [78,65,88,50,80],\n",
    "    'Assignment2': [85,70,90,45,75],\n",
    "    'FinalExam': [90,72,95,60,85]\n",
    "    }\n",
    "df = pd.DataFrame(data)\n",
    "print(df)"
   ]
  },
  {
   "cell_type": "code",
   "execution_count": 54,
   "id": "aa513008",
   "metadata": {},
   "outputs": [
    {
     "name": "stdout",
     "output_type": "stream",
     "text": [
      "          Name  Assignment1  Assignment2  FinalExam\n",
      "1001    Ayesha           78           85         90\n",
      "1002     Nimal           65           70         72\n",
      "1003  Tharindu           88           90         95\n",
      "1004     Kasun           50           45         60\n",
      "1005  Shashini           80           75         85\n"
     ]
    }
   ],
   "source": [
    "df = pd.DataFrame(data,index=[\"1001\", \"1002\", \"1003\", \"1004\", \"1005\"])\n",
    "print(df)"
   ]
  },
  {
   "cell_type": "code",
   "execution_count": 69,
   "id": "e2faccb7",
   "metadata": {},
   "outputs": [
    {
     "name": "stdout",
     "output_type": "stream",
     "text": [
      "          Name  FinalExam\n",
      "1001    Ayesha         90\n",
      "1003  Tharindu         95\n",
      "1005  Shashini         85\n"
     ]
    }
   ],
   "source": [
    "max_final_filtered_df = df[df['FinalExam'] > 80] \n",
    "print(max_final_filtered_df[['Name', 'FinalExam']]) "
   ]
  },
  {
   "cell_type": "code",
   "execution_count": 71,
   "id": "cd1ce808",
   "metadata": {},
   "outputs": [
    {
     "name": "stdout",
     "output_type": "stream",
     "text": [
      "          Name  Assignment1  Assignment2  FinalExam    Average\n",
      "1001    Ayesha           78           85         90  84.333333\n",
      "1002     Nimal           65           70         72  69.000000\n",
      "1003  Tharindu           88           90         95  91.000000\n",
      "1004     Kasun           50           45         60  51.666667\n",
      "1005  Shashini           80           75         85  80.000000\n"
     ]
    }
   ],
   "source": [
    "df['Average'] = (df[\"Assignment1\"] + df[\"Assignment2\"] + df[\"FinalExam\"]) / 3\n",
    "print(df)"
   ]
  },
  {
   "cell_type": "code",
   "execution_count": 73,
   "id": "03e132f8",
   "metadata": {},
   "outputs": [
    {
     "name": "stdout",
     "output_type": "stream",
     "text": [
      "          Name  Average\n",
      "1003  Tharindu     91.0\n"
     ]
    }
   ],
   "source": [
    "average_max_df= df['Average'].max()\n",
    "max_average_df = df[df['Average'] == average_max_df]\n",
    "print(max_average_df[['Name', 'Average']])"
   ]
  },
  {
   "cell_type": "code",
   "execution_count": null,
   "id": "895d6dd9",
   "metadata": {},
   "outputs": [
    {
     "name": "stdout",
     "output_type": "stream",
     "text": [
      "Total Assignment1 marks: 361\n"
     ]
    }
   ],
   "source": [
    "total = df['Assignment1'].sum()\n",
    "print(\"Total Assignment1 marks:\", total)"
   ]
  }
 ],
 "metadata": {
  "kernelspec": {
   "display_name": "Python 3",
   "language": "python",
   "name": "python3"
  },
  "language_info": {
   "codemirror_mode": {
    "name": "ipython",
    "version": 3
   },
   "file_extension": ".py",
   "mimetype": "text/x-python",
   "name": "python",
   "nbconvert_exporter": "python",
   "pygments_lexer": "ipython3",
   "version": "3.13.3"
  }
 },
 "nbformat": 4,
 "nbformat_minor": 5
}
